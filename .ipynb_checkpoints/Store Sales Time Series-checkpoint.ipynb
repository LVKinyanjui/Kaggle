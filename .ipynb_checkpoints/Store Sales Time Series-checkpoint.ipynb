{
 "cells": [
  {
   "cell_type": "markdown",
   "id": "ba4f0809-9e7a-43a6-9259-1102445d70e6",
   "metadata": {},
   "source": [
    "We are going to train a time series model from kaggle. Our objectives are:\n",
    "> In this “getting started” competition, you’ll use time-series forecasting to forecast store sales on data from Corporación Favorita, a large Ecuadorian-based grocery retailer.\n",
    "\n",
    "> Specifically, you'll build a model that more accurately predicts the unit sales for thousands of items sold at different Favorita stores. You'll practice your machine learning skills with an approachable training dataset of dates, store, and item information, promotions, and unit sales."
   ]
  },
  {
   "cell_type": "code",
   "execution_count": 1,
   "id": "d89e1b52-0874-453c-bc03-b7f818ef1e64",
   "metadata": {
    "tags": []
   },
   "outputs": [],
   "source": [
    "import pandas as pd\n",
    "import matplotlib.pyplot as plt\n",
    "import seaborn as sns\n",
    "import numpy as np"
   ]
  },
  {
   "cell_type": "code",
   "execution_count": 2,
   "id": "2446f111-a189-4d45-852a-ae9a5e196604",
   "metadata": {
    "tags": []
   },
   "outputs": [],
   "source": [
    "from sklearn.model_selection import TimeSeriesSplit"
   ]
  },
  {
   "cell_type": "code",
   "execution_count": 3,
   "id": "0fda43ee-617e-463f-b12d-776aec9ff5e8",
   "metadata": {
    "tags": []
   },
   "outputs": [],
   "source": [
    "train_df = pd.read_csv(\"I:/My Drive/Colab Notebooks/All/data/store-sales-time-series-forecasting/train.csv\")"
   ]
  },
  {
   "cell_type": "code",
   "execution_count": 4,
   "id": "d5edff10-f702-43cb-8385-a8a5472ad872",
   "metadata": {
    "tags": []
   },
   "outputs": [],
   "source": [
    "kaggle_test_df = pd.read_csv(\"I:/My Drive/Colab Notebooks/All/data/store-sales-time-series-forecasting/test.csv\")"
   ]
  },
  {
   "cell_type": "markdown",
   "id": "402dbca3-f02a-4410-8e64-b4187557e6ec",
   "metadata": {},
   "source": [
    "# Exploration"
   ]
  },
  {
   "cell_type": "code",
   "execution_count": 5,
   "id": "d7a5c5e5-1964-4e89-bb74-c9f31fa71aa0",
   "metadata": {
    "tags": []
   },
   "outputs": [
    {
     "data": {
      "text/html": [
       "<div>\n",
       "<style scoped>\n",
       "    .dataframe tbody tr th:only-of-type {\n",
       "        vertical-align: middle;\n",
       "    }\n",
       "\n",
       "    .dataframe tbody tr th {\n",
       "        vertical-align: top;\n",
       "    }\n",
       "\n",
       "    .dataframe thead th {\n",
       "        text-align: right;\n",
       "    }\n",
       "</style>\n",
       "<table border=\"1\" class=\"dataframe\">\n",
       "  <thead>\n",
       "    <tr style=\"text-align: right;\">\n",
       "      <th></th>\n",
       "      <th>id</th>\n",
       "      <th>date</th>\n",
       "      <th>store_nbr</th>\n",
       "      <th>family</th>\n",
       "      <th>sales</th>\n",
       "      <th>onpromotion</th>\n",
       "    </tr>\n",
       "  </thead>\n",
       "  <tbody>\n",
       "    <tr>\n",
       "      <th>3000883</th>\n",
       "      <td>3000883</td>\n",
       "      <td>2017-08-15</td>\n",
       "      <td>9</td>\n",
       "      <td>POULTRY</td>\n",
       "      <td>438.133</td>\n",
       "      <td>0</td>\n",
       "    </tr>\n",
       "    <tr>\n",
       "      <th>3000884</th>\n",
       "      <td>3000884</td>\n",
       "      <td>2017-08-15</td>\n",
       "      <td>9</td>\n",
       "      <td>PREPARED FOODS</td>\n",
       "      <td>154.553</td>\n",
       "      <td>1</td>\n",
       "    </tr>\n",
       "    <tr>\n",
       "      <th>3000885</th>\n",
       "      <td>3000885</td>\n",
       "      <td>2017-08-15</td>\n",
       "      <td>9</td>\n",
       "      <td>PRODUCE</td>\n",
       "      <td>2419.729</td>\n",
       "      <td>148</td>\n",
       "    </tr>\n",
       "    <tr>\n",
       "      <th>3000886</th>\n",
       "      <td>3000886</td>\n",
       "      <td>2017-08-15</td>\n",
       "      <td>9</td>\n",
       "      <td>SCHOOL AND OFFICE SUPPLIES</td>\n",
       "      <td>121.000</td>\n",
       "      <td>8</td>\n",
       "    </tr>\n",
       "    <tr>\n",
       "      <th>3000887</th>\n",
       "      <td>3000887</td>\n",
       "      <td>2017-08-15</td>\n",
       "      <td>9</td>\n",
       "      <td>SEAFOOD</td>\n",
       "      <td>16.000</td>\n",
       "      <td>0</td>\n",
       "    </tr>\n",
       "  </tbody>\n",
       "</table>\n",
       "</div>"
      ],
      "text/plain": [
       "              id        date  store_nbr                      family     sales  \\\n",
       "3000883  3000883  2017-08-15          9                     POULTRY   438.133   \n",
       "3000884  3000884  2017-08-15          9              PREPARED FOODS   154.553   \n",
       "3000885  3000885  2017-08-15          9                     PRODUCE  2419.729   \n",
       "3000886  3000886  2017-08-15          9  SCHOOL AND OFFICE SUPPLIES   121.000   \n",
       "3000887  3000887  2017-08-15          9                     SEAFOOD    16.000   \n",
       "\n",
       "         onpromotion  \n",
       "3000883            0  \n",
       "3000884            1  \n",
       "3000885          148  \n",
       "3000886            8  \n",
       "3000887            0  "
      ]
     },
     "execution_count": 5,
     "metadata": {},
     "output_type": "execute_result"
    }
   ],
   "source": [
    "train_df.tail()"
   ]
  },
  {
   "cell_type": "code",
   "execution_count": 6,
   "id": "d9f83540-a249-4f28-81f8-9998e91bd5f5",
   "metadata": {
    "tags": []
   },
   "outputs": [
    {
     "data": {
      "text/html": [
       "<div>\n",
       "<style scoped>\n",
       "    .dataframe tbody tr th:only-of-type {\n",
       "        vertical-align: middle;\n",
       "    }\n",
       "\n",
       "    .dataframe tbody tr th {\n",
       "        vertical-align: top;\n",
       "    }\n",
       "\n",
       "    .dataframe thead th {\n",
       "        text-align: right;\n",
       "    }\n",
       "</style>\n",
       "<table border=\"1\" class=\"dataframe\">\n",
       "  <thead>\n",
       "    <tr style=\"text-align: right;\">\n",
       "      <th></th>\n",
       "      <th>id</th>\n",
       "      <th>date</th>\n",
       "      <th>store_nbr</th>\n",
       "      <th>family</th>\n",
       "      <th>onpromotion</th>\n",
       "    </tr>\n",
       "  </thead>\n",
       "  <tbody>\n",
       "    <tr>\n",
       "      <th>28507</th>\n",
       "      <td>3029395</td>\n",
       "      <td>2017-08-31</td>\n",
       "      <td>9</td>\n",
       "      <td>POULTRY</td>\n",
       "      <td>1</td>\n",
       "    </tr>\n",
       "    <tr>\n",
       "      <th>28508</th>\n",
       "      <td>3029396</td>\n",
       "      <td>2017-08-31</td>\n",
       "      <td>9</td>\n",
       "      <td>PREPARED FOODS</td>\n",
       "      <td>0</td>\n",
       "    </tr>\n",
       "    <tr>\n",
       "      <th>28509</th>\n",
       "      <td>3029397</td>\n",
       "      <td>2017-08-31</td>\n",
       "      <td>9</td>\n",
       "      <td>PRODUCE</td>\n",
       "      <td>1</td>\n",
       "    </tr>\n",
       "    <tr>\n",
       "      <th>28510</th>\n",
       "      <td>3029398</td>\n",
       "      <td>2017-08-31</td>\n",
       "      <td>9</td>\n",
       "      <td>SCHOOL AND OFFICE SUPPLIES</td>\n",
       "      <td>9</td>\n",
       "    </tr>\n",
       "    <tr>\n",
       "      <th>28511</th>\n",
       "      <td>3029399</td>\n",
       "      <td>2017-08-31</td>\n",
       "      <td>9</td>\n",
       "      <td>SEAFOOD</td>\n",
       "      <td>0</td>\n",
       "    </tr>\n",
       "  </tbody>\n",
       "</table>\n",
       "</div>"
      ],
      "text/plain": [
       "            id        date  store_nbr                      family  onpromotion\n",
       "28507  3029395  2017-08-31          9                     POULTRY            1\n",
       "28508  3029396  2017-08-31          9              PREPARED FOODS            0\n",
       "28509  3029397  2017-08-31          9                     PRODUCE            1\n",
       "28510  3029398  2017-08-31          9  SCHOOL AND OFFICE SUPPLIES            9\n",
       "28511  3029399  2017-08-31          9                     SEAFOOD            0"
      ]
     },
     "execution_count": 6,
     "metadata": {},
     "output_type": "execute_result"
    }
   ],
   "source": [
    "kaggle_test_df.tail()"
   ]
  },
  {
   "cell_type": "markdown",
   "id": "30058bc5-4540-4c62-ac12-ff20f4b411dc",
   "metadata": {
    "tags": []
   },
   "source": [
    "We are predicting `sales`."
   ]
  },
  {
   "cell_type": "code",
   "execution_count": 7,
   "id": "4ae8dd21-866e-47ba-a9cf-819df55dabc2",
   "metadata": {
    "tags": []
   },
   "outputs": [
    {
     "name": "stdout",
     "output_type": "stream",
     "text": [
      "(3000888, 6) (28512, 5)\n"
     ]
    }
   ],
   "source": [
    "print(train_df.shape, kaggle_test_df.shape)"
   ]
  },
  {
   "cell_type": "markdown",
   "id": "10f121ce-5483-40ae-81b8-a24f38fba862",
   "metadata": {},
   "source": [
    "## Missing Values"
   ]
  },
  {
   "cell_type": "code",
   "execution_count": 8,
   "id": "eee2dce8-5836-4c5b-9583-788dc7c13d4d",
   "metadata": {
    "tags": []
   },
   "outputs": [
    {
     "data": {
      "text/plain": [
       "id             0\n",
       "date           0\n",
       "store_nbr      0\n",
       "family         0\n",
       "sales          0\n",
       "onpromotion    0\n",
       "dtype: int64"
      ]
     },
     "execution_count": 8,
     "metadata": {},
     "output_type": "execute_result"
    }
   ],
   "source": [
    "train_df.isnull().sum()"
   ]
  },
  {
   "cell_type": "markdown",
   "id": "7320a308-612e-4fb5-9540-c010b7e6ea3f",
   "metadata": {},
   "source": [
    "The dataset miraculously has no missing values. This helps greatly."
   ]
  },
  {
   "cell_type": "markdown",
   "id": "c41dd53a-c224-4032-8646-f395d44a716e",
   "metadata": {
    "tags": []
   },
   "source": [
    "## Data types and Distribution"
   ]
  },
  {
   "cell_type": "code",
   "execution_count": 9,
   "id": "b48515d4-3fbf-49b8-8760-de87fb1ca793",
   "metadata": {
    "tags": []
   },
   "outputs": [
    {
     "name": "stdout",
     "output_type": "stream",
     "text": [
      "<class 'pandas.core.frame.DataFrame'>\n",
      "RangeIndex: 3000888 entries, 0 to 3000887\n",
      "Data columns (total 6 columns):\n",
      " #   Column       Dtype  \n",
      "---  ------       -----  \n",
      " 0   id           int64  \n",
      " 1   date         object \n",
      " 2   store_nbr    int64  \n",
      " 3   family       object \n",
      " 4   sales        float64\n",
      " 5   onpromotion  int64  \n",
      "dtypes: float64(1), int64(3), object(2)\n",
      "memory usage: 137.4+ MB\n"
     ]
    }
   ],
   "source": [
    "train_df.info()"
   ]
  },
  {
   "cell_type": "markdown",
   "id": "cf46fbca-2a55-477b-bfa7-bf28c007bde0",
   "metadata": {},
   "source": [
    "### Categorical Variables"
   ]
  },
  {
   "cell_type": "code",
   "execution_count": 10,
   "id": "44399533-fbfa-4284-96d7-44c39a1a713f",
   "metadata": {
    "tags": []
   },
   "outputs": [
    {
     "data": {
      "text/html": [
       "<div>\n",
       "<style scoped>\n",
       "    .dataframe tbody tr th:only-of-type {\n",
       "        vertical-align: middle;\n",
       "    }\n",
       "\n",
       "    .dataframe tbody tr th {\n",
       "        vertical-align: top;\n",
       "    }\n",
       "\n",
       "    .dataframe thead th {\n",
       "        text-align: right;\n",
       "    }\n",
       "</style>\n",
       "<table border=\"1\" class=\"dataframe\">\n",
       "  <thead>\n",
       "    <tr style=\"text-align: right;\">\n",
       "      <th></th>\n",
       "      <th>date</th>\n",
       "      <th>family</th>\n",
       "    </tr>\n",
       "  </thead>\n",
       "  <tbody>\n",
       "    <tr>\n",
       "      <th>count</th>\n",
       "      <td>3000888</td>\n",
       "      <td>3000888</td>\n",
       "    </tr>\n",
       "    <tr>\n",
       "      <th>unique</th>\n",
       "      <td>1684</td>\n",
       "      <td>33</td>\n",
       "    </tr>\n",
       "    <tr>\n",
       "      <th>top</th>\n",
       "      <td>2013-01-01</td>\n",
       "      <td>AUTOMOTIVE</td>\n",
       "    </tr>\n",
       "    <tr>\n",
       "      <th>freq</th>\n",
       "      <td>1782</td>\n",
       "      <td>90936</td>\n",
       "    </tr>\n",
       "  </tbody>\n",
       "</table>\n",
       "</div>"
      ],
      "text/plain": [
       "              date      family\n",
       "count      3000888     3000888\n",
       "unique        1684          33\n",
       "top     2013-01-01  AUTOMOTIVE\n",
       "freq          1782       90936"
      ]
     },
     "execution_count": 10,
     "metadata": {},
     "output_type": "execute_result"
    }
   ],
   "source": [
    "train_df.describe(include='object')"
   ]
  },
  {
   "cell_type": "code",
   "execution_count": 11,
   "id": "7be41b08-0f86-4beb-ab77-f64ff8477e2e",
   "metadata": {
    "tags": []
   },
   "outputs": [
    {
     "data": {
      "text/plain": [
       "array(['AUTOMOTIVE', 'BABY CARE', 'BEAUTY', 'BEVERAGES', 'BOOKS',\n",
       "       'BREAD/BAKERY', 'CELEBRATION', 'CLEANING', 'DAIRY', 'DELI', 'EGGS',\n",
       "       'FROZEN FOODS', 'GROCERY I', 'GROCERY II', 'HARDWARE',\n",
       "       'HOME AND KITCHEN I', 'HOME AND KITCHEN II', 'HOME APPLIANCES',\n",
       "       'HOME CARE', 'LADIESWEAR', 'LAWN AND GARDEN', 'LINGERIE',\n",
       "       'LIQUOR,WINE,BEER', 'MAGAZINES', 'MEATS', 'PERSONAL CARE',\n",
       "       'PET SUPPLIES', 'PLAYERS AND ELECTRONICS', 'POULTRY',\n",
       "       'PREPARED FOODS', 'PRODUCE', 'SCHOOL AND OFFICE SUPPLIES',\n",
       "       'SEAFOOD'], dtype=object)"
      ]
     },
     "execution_count": 11,
     "metadata": {},
     "output_type": "execute_result"
    }
   ],
   "source": [
    "train_df.family.unique()"
   ]
  },
  {
   "cell_type": "markdown",
   "id": "91b21121-18dd-409d-b2bb-2911c4da3e68",
   "metadata": {},
   "source": [
    "### Numerical Variables"
   ]
  },
  {
   "cell_type": "markdown",
   "id": "d7418289-6bc7-451f-babe-c8103e43731e",
   "metadata": {},
   "source": [
    "These don't have to be continuous, they only have to have a numeric data type. "
   ]
  },
  {
   "cell_type": "code",
   "execution_count": 12,
   "id": "b07586ec-3038-4bdb-bfcc-b51751fd1c19",
   "metadata": {
    "tags": []
   },
   "outputs": [
    {
     "data": {
      "text/html": [
       "<div>\n",
       "<style scoped>\n",
       "    .dataframe tbody tr th:only-of-type {\n",
       "        vertical-align: middle;\n",
       "    }\n",
       "\n",
       "    .dataframe tbody tr th {\n",
       "        vertical-align: top;\n",
       "    }\n",
       "\n",
       "    .dataframe thead th {\n",
       "        text-align: right;\n",
       "    }\n",
       "</style>\n",
       "<table border=\"1\" class=\"dataframe\">\n",
       "  <thead>\n",
       "    <tr style=\"text-align: right;\">\n",
       "      <th></th>\n",
       "      <th>id</th>\n",
       "      <th>store_nbr</th>\n",
       "      <th>sales</th>\n",
       "      <th>onpromotion</th>\n",
       "    </tr>\n",
       "  </thead>\n",
       "  <tbody>\n",
       "    <tr>\n",
       "      <th>count</th>\n",
       "      <td>3.000888e+06</td>\n",
       "      <td>3.000888e+06</td>\n",
       "      <td>3.000888e+06</td>\n",
       "      <td>3.000888e+06</td>\n",
       "    </tr>\n",
       "    <tr>\n",
       "      <th>mean</th>\n",
       "      <td>1.500444e+06</td>\n",
       "      <td>2.750000e+01</td>\n",
       "      <td>3.577757e+02</td>\n",
       "      <td>2.602770e+00</td>\n",
       "    </tr>\n",
       "    <tr>\n",
       "      <th>std</th>\n",
       "      <td>8.662819e+05</td>\n",
       "      <td>1.558579e+01</td>\n",
       "      <td>1.101998e+03</td>\n",
       "      <td>1.221888e+01</td>\n",
       "    </tr>\n",
       "    <tr>\n",
       "      <th>min</th>\n",
       "      <td>0.000000e+00</td>\n",
       "      <td>1.000000e+00</td>\n",
       "      <td>0.000000e+00</td>\n",
       "      <td>0.000000e+00</td>\n",
       "    </tr>\n",
       "    <tr>\n",
       "      <th>25%</th>\n",
       "      <td>7.502218e+05</td>\n",
       "      <td>1.400000e+01</td>\n",
       "      <td>0.000000e+00</td>\n",
       "      <td>0.000000e+00</td>\n",
       "    </tr>\n",
       "    <tr>\n",
       "      <th>50%</th>\n",
       "      <td>1.500444e+06</td>\n",
       "      <td>2.750000e+01</td>\n",
       "      <td>1.100000e+01</td>\n",
       "      <td>0.000000e+00</td>\n",
       "    </tr>\n",
       "    <tr>\n",
       "      <th>75%</th>\n",
       "      <td>2.250665e+06</td>\n",
       "      <td>4.100000e+01</td>\n",
       "      <td>1.958473e+02</td>\n",
       "      <td>0.000000e+00</td>\n",
       "    </tr>\n",
       "    <tr>\n",
       "      <th>max</th>\n",
       "      <td>3.000887e+06</td>\n",
       "      <td>5.400000e+01</td>\n",
       "      <td>1.247170e+05</td>\n",
       "      <td>7.410000e+02</td>\n",
       "    </tr>\n",
       "  </tbody>\n",
       "</table>\n",
       "</div>"
      ],
      "text/plain": [
       "                 id     store_nbr         sales   onpromotion\n",
       "count  3.000888e+06  3.000888e+06  3.000888e+06  3.000888e+06\n",
       "mean   1.500444e+06  2.750000e+01  3.577757e+02  2.602770e+00\n",
       "std    8.662819e+05  1.558579e+01  1.101998e+03  1.221888e+01\n",
       "min    0.000000e+00  1.000000e+00  0.000000e+00  0.000000e+00\n",
       "25%    7.502218e+05  1.400000e+01  0.000000e+00  0.000000e+00\n",
       "50%    1.500444e+06  2.750000e+01  1.100000e+01  0.000000e+00\n",
       "75%    2.250665e+06  4.100000e+01  1.958473e+02  0.000000e+00\n",
       "max    3.000887e+06  5.400000e+01  1.247170e+05  7.410000e+02"
      ]
     },
     "execution_count": 12,
     "metadata": {},
     "output_type": "execute_result"
    }
   ],
   "source": [
    "train_df.describe(include=['int64', 'float64'])"
   ]
  },
  {
   "cell_type": "code",
   "execution_count": 13,
   "id": "f457cff6-09fc-4ba0-84f9-95fa6842fd2b",
   "metadata": {
    "tags": []
   },
   "outputs": [
    {
     "data": {
      "text/plain": [
       "array([  0,   3,   5,   1,  56,  20,  19,   2,   4,  18,  17,  12,   6,\n",
       "         7,  10,   9,  50,   8,  16,  42,  51,  13,  15,  47,  21,  40,\n",
       "        37,  54,  24,  58,  22,  59,  11,  45,  25,  55,  26,  43,  35,\n",
       "        14,  28,  46,  36,  32,  53,  57,  27,  39,  41,  30,  29,  49,\n",
       "        23,  48,  44,  38,  31,  52,  33,  34,  61,  60, 116,  86,  73,\n",
       "       113, 102,  68, 104,  93,  70,  92, 121,  72, 178, 174, 161, 118,\n",
       "       105, 172, 163, 167, 142, 154, 133, 180, 181, 173, 165, 168, 186,\n",
       "       140, 149, 145, 169, 188,  62,  84, 111,  65, 107,  63, 101,  87,\n",
       "       125,  94, 114, 171, 153, 170, 166, 141, 155, 179, 192, 131, 147,\n",
       "       151, 189,  79,  74, 110,  64,  67,  99, 123, 157, 117, 150, 182,\n",
       "       162, 160, 194, 135, 190,  69, 108,  89, 126, 156, 103, 146, 132,\n",
       "       177, 164, 176, 112,  75, 109,  91, 128, 175, 187, 148, 137, 184,\n",
       "       196, 144, 158, 119, 106,  66, 100,  90, 120, 115,  98, 159, 152,\n",
       "       185, 139, 143,  80, 124,  71, 134, 193,  78,  88, 122, 130,  81,\n",
       "        97, 138, 191,  76,  96, 198,  82,  95, 195, 183, 199, 200, 201,\n",
       "       197,  77,  83, 136, 205, 204, 202, 129, 206,  85, 209, 211, 207,\n",
       "       208, 203, 210, 127, 213, 212, 218, 216, 217, 214, 222, 220, 223,\n",
       "       229, 225, 228, 224, 231, 215, 233, 230, 235, 227, 221, 226, 219,\n",
       "       289, 245, 609, 261, 322, 276, 710, 511, 326, 281, 718, 551, 304,\n",
       "       639, 489, 299, 243, 630, 476, 655, 446, 286, 633, 435, 302, 644,\n",
       "       470, 332, 259, 702, 520, 300, 241, 668, 510, 237, 626, 507, 317,\n",
       "       624, 474, 240, 672, 306, 600, 383, 293, 258, 646, 444, 333, 279,\n",
       "       717, 342, 720, 547, 305, 642, 452, 313, 252, 664, 481, 277, 307,\n",
       "       264, 684, 479, 255, 657, 441, 312, 269, 716, 528, 320, 285, 726,\n",
       "       536, 283, 628, 469, 464, 677, 420, 247, 629, 424, 290, 473, 294,\n",
       "       722, 485, 297, 282, 719, 543, 253, 254, 678, 496, 275, 741, 512,\n",
       "       236, 234, 244, 239, 238, 242, 232, 249, 250, 251, 391, 539, 411,\n",
       "       486, 407, 330, 697, 246, 467, 263, 591, 248, 519, 425], dtype=int64)"
      ]
     },
     "execution_count": 13,
     "metadata": {},
     "output_type": "execute_result"
    }
   ],
   "source": [
    "train_df['onpromotion'].unique()"
   ]
  },
  {
   "cell_type": "code",
   "execution_count": 14,
   "id": "bc36a9ab-ab0f-4765-8820-a393741e654e",
   "metadata": {
    "tags": []
   },
   "outputs": [
    {
     "data": {
      "text/plain": [
       "array([ 1, 10, 11, 12, 13, 14, 15, 16, 17, 18, 19,  2, 20, 21, 22, 23, 24,\n",
       "       25, 26, 27, 28, 29,  3, 30, 31, 32, 33, 34, 35, 36, 37, 38, 39,  4,\n",
       "       40, 41, 42, 43, 44, 45, 46, 47, 48, 49,  5, 50, 51, 52, 53, 54,  6,\n",
       "        7,  8,  9], dtype=int64)"
      ]
     },
     "execution_count": 14,
     "metadata": {},
     "output_type": "execute_result"
    }
   ],
   "source": [
    "train_df.store_nbr.unique()"
   ]
  },
  {
   "cell_type": "markdown",
   "id": "fa8c7452-9acd-431f-bf8b-09f5cff4af01",
   "metadata": {},
   "source": [
    "### Date Type\n"
   ]
  },
  {
   "cell_type": "markdown",
   "id": "5487cec3-e239-40df-aa7d-4ed910bbed9e",
   "metadata": {},
   "source": [
    "This one is a little unique. It would be best to have it in date time format. It is a `str` for now."
   ]
  },
  {
   "cell_type": "code",
   "execution_count": 15,
   "id": "d2753779-1c3a-4b7f-8d78-46864f2434cd",
   "metadata": {
    "tags": []
   },
   "outputs": [
    {
     "data": {
      "text/plain": [
       "str"
      ]
     },
     "execution_count": 15,
     "metadata": {},
     "output_type": "execute_result"
    }
   ],
   "source": [
    "type(train_df.date[0])"
   ]
  },
  {
   "cell_type": "code",
   "execution_count": 16,
   "id": "319d6ef2-4521-4ef5-b624-18b1c186e03c",
   "metadata": {
    "tags": []
   },
   "outputs": [],
   "source": [
    "train_df['date'] = pd.to_datetime(train_df.date)"
   ]
  },
  {
   "cell_type": "markdown",
   "id": "7d8410fe-0d8d-403a-85e7-edaf3a093885",
   "metadata": {},
   "source": [
    "## Time Series Plot\n"
   ]
  },
  {
   "cell_type": "code",
   "execution_count": 17,
   "id": "d57c8610-02da-45ad-b586-9fdb12fd1bf9",
   "metadata": {
    "tags": []
   },
   "outputs": [
    {
     "data": {
      "text/plain": [
       "<AxesSubplot:xlabel='date'>"
      ]
     },
     "execution_count": 17,
     "metadata": {},
     "output_type": "execute_result"
    },
    {
     "data": {
      "image/png": "[encoded data removed]",
      "text/plain": [
       "<Figure size 1440x720 with 1 Axes>"
      ]
     },
     "metadata": {
      "needs_background": "light"
     },
     "output_type": "display_data"
    }
   ],
   "source": [
    "train_df.plot(x='date', y='sales', kind=\"line\", figsize=(20,10))"
   ]
  },
  {
   "cell_type": "markdown",
   "id": "d46e8b89-d6b8-4647-91ad-aba174e2fdbf",
   "metadata": {},
   "source": [
    "We can use `group_by` to aggregate the data into yearly quarters for a clearer visual."
   ]
  },
  {
   "cell_type": "code",
   "execution_count": 18,
   "id": "0c915c77-bb39-40d8-8843-edaa59e5a2c4",
   "metadata": {
    "tags": []
   },
   "outputs": [],
   "source": [
    "# train_df.groupby()"
   ]
  },
  {
   "cell_type": "markdown",
   "id": "244750a8-23af-42f5-922f-0564046dbb25",
   "metadata": {},
   "source": [
    "# Model Building"
   ]
  },
  {
   "cell_type": "markdown",
   "id": "56345433-8303-4c89-9457-27efe0ea9dd5",
   "metadata": {},
   "source": [
    "## Baseline Model\n"
   ]
  },
  {
   "cell_type": "markdown",
   "id": "8ed0c635-c94b-4308-ac5d-993c9c740e39",
   "metadata": {},
   "source": [
    "This is defined as follows:\n",
    "> Of course, we need a baseline model to determine if using machine learning models is\n",
    "better. Here, we naively predict that the next observation will have the same value as\n",
    "the current observation.\n"
   ]
  },
  {
   "cell_type": "code",
   "execution_count": 19,
   "id": "3c1ac0f0-a77e-4a58-8d6b-afbe6028bd1b",
   "metadata": {
    "tags": []
   },
   "outputs": [],
   "source": [
    "train_df = train_df.copy()\n",
    "train_df['baseline_pred'] = train_df['sales']"
   ]
  },
  {
   "cell_type": "markdown",
   "id": "06288864-ba5b-460e-8e3a-38ccac471b98",
   "metadata": {
    "tags": []
   },
   "source": [
    "## Train Test Split"
   ]
  },
  {
   "cell_type": "code",
   "execution_count": 20,
   "id": "cfc06cd1-2d36-42f3-bd03-75452b9ae8be",
   "metadata": {
    "tags": []
   },
   "outputs": [],
   "source": [
    "from sklearn.model_selection import TimeSeriesSplit"
   ]
  },
  {
   "cell_type": "markdown",
   "id": "d6e3a105-9cb2-4d35-9839-6aa58334d7d2",
   "metadata": {},
   "source": [
    "While using `TimeSeriesSplit` we are cautioned as to some of its nuances <a href=https://www.rasgoml.com/feature-engineering-tutorials/scikit-learn-time-series-split > here </a>\n",
    "> TimeSeriesSplit doesn't implement true time series split. Instead, it assumes that the data contains a single series with evenly spaced observations ordered by the timestamp. With that data it partitions the first n observations into the train set and the remaining test_size into the test set."
   ]
  },
  {
   "cell_type": "code",
   "execution_count": 21,
   "id": "eaa9105e-fc25-4f02-aae3-b9c3c737d495",
   "metadata": {
    "tags": []
   },
   "outputs": [],
   "source": [
    "target = train_df['sales']\n",
    "predictors = train_df.drop(columns='sales')"
   ]
  },
  {
   "cell_type": "code",
   "execution_count": 22,
   "id": "e019ec9b-ed79-46b6-842b-2c16ffb0ac80",
   "metadata": {
    "tags": []
   },
   "outputs": [],
   "source": [
    "TSS = TimeSeriesSplit()"
   ]
  },
  {
   "cell_type": "code",
   "execution_count": 23,
   "id": "6a2324f1-5fb9-4e14-ac9e-eed37087d640",
   "metadata": {
    "tags": []
   },
   "outputs": [],
   "source": [
    "for train_index, test_index in TSS.split(predictors):\n",
    "    X_train, X_test = predictors.iloc[train_index], predictors.iloc[test_index]\n",
    "    y_train, y_test = target.iloc[train_index], target.iloc[test_index]"
   ]
  },
  {
   "cell_type": "markdown",
   "id": "566a8371-e1b0-447e-8194-91ab48d60c12",
   "metadata": {},
   "source": [
    "## Methods"
   ]
  },
  {
   "cell_type": "markdown",
   "id": "07a5e05e-e70a-489f-bddd-50cdf9c8e507",
   "metadata": {},
   "source": [
    "There exits ways in which we can use `sklearn` with time series. This is outlined in this <a href=https://towardsdatascience.com/the-complete-guide-to-time-series-forecasting-using-sklearn-pandas-and-numpy-7694c90e45c1 > article </a>\n",
    ">  we design a framework to frame a time\n",
    "series problem as a supervised learning problem, allowing us to use any model we\n",
    "want from our favorite library: scikit-learn!\n",
    "\n",
    "This will involve one of the following methods\n",
    "> 1. Predict the next time step using the previous observation\n",
    "> 2. Predict the next time step using a sequence of past observations\n",
    "> 3. Predict a sequence of future time steps using a sequence of past observations\n"
   ]
  },
  {
   "cell_type": "markdown",
   "id": "e404ffe7-dda8-481b-8bbf-a9f49b9bb24b",
   "metadata": {},
   "source": [
    "## Predict the next time step using the previous observation\n"
   ]
  },
  {
   "cell_type": "markdown",
   "id": "3e8505ad-79d1-46dd-97e3-4b2fee8b29b2",
   "metadata": {},
   "source": [
    "This is scarcely a useful method since not much can be learnt from one prior point."
   ]
  },
  {
   "cell_type": "markdown",
   "id": "ce0f0ed2-7459-4d65-9fb6-e5b53d724289",
   "metadata": {},
   "source": [
    "## Predict the next time step using a sequence of past observations\n"
   ]
  },
  {
   "cell_type": "markdown",
   "id": "4e7bdc70-ae87-4ac2-a470-9bd1a8b0d345",
   "metadata": {},
   "source": [
    "This too may have its limitations as outlined by the article above:\n",
    "> While hyperparameter tuning can likely increase the performance of the ML models, I\n",
    "suspect that input window is too short ... we might need\n",
    "a longer window of time."
   ]
  },
  {
   "cell_type": "markdown",
   "id": "aae57728-e01b-4205-8db6-89b15a15740c",
   "metadata": {},
   "source": [
    "## Predict a sequence of future time steps using a sequence of past observations\n"
   ]
  },
  {
   "cell_type": "markdown",
   "id": "1ec233ee-428b-4fdb-a848-b8ebe3f0402a",
   "metadata": {},
   "source": [
    "The procedure here is complicated. The article explains it better than I ever could:\n",
    "> Here, our model is required to output a sequence of predictions. This can be seen as a\n",
    "multi-output regression problem.\n",
    "\n",
    "> So, the first step is to format our dataset appropriately. We develop another function\n",
    "that uses the shift method to format the dataset as a multi-output regression problem."
   ]
  },
  {
   "cell_type": "code",
   "execution_count": 24,
   "id": "e72a201d-e29c-49c5-b665-3e69b2e9993b",
   "metadata": {
    "tags": []
   },
   "outputs": [],
   "source": [
    "def window_input_output(input_length: int, output_length: int, data:pd.DataFrame) -> pd.DataFrame:\n",
    "    df = data.copy()\n",
    "    i = 1\n",
    "    while i < input_length:\n",
    "        df[f'x_{i}'] = df['sales'].shift(-i)\n",
    "        i = i + 1\n",
    "        j = 0\n",
    "    while j < output_length:\n",
    "        df[f'y_{j}'] = df['sales'].shift(-output_length-j)\n",
    "        j = j + 1\n",
    "        df = df.dropna(axis=0)\n",
    "    return df"
   ]
  },
  {
   "cell_type": "code",
   "execution_count": 25,
   "id": "f1929257-4da6-43d8-b4a8-78277ce2aea2",
   "metadata": {
    "tags": []
   },
   "outputs": [],
   "source": [
    "data = window_input_output(10, 10, train_df[['sales', 'baseline_pred']])"
   ]
  },
  {
   "cell_type": "code",
   "execution_count": 26,
   "id": "8aab0d1e-51ac-49e7-afd8-b9bf5b319d63",
   "metadata": {
    "tags": []
   },
   "outputs": [
    {
     "data": {
      "text/html": [
       "<div>\n",
       "<style scoped>\n",
       "    .dataframe tbody tr th:only-of-type {\n",
       "        vertical-align: middle;\n",
       "    }\n",
       "\n",
       "    .dataframe tbody tr th {\n",
       "        vertical-align: top;\n",
       "    }\n",
       "\n",
       "    .dataframe thead th {\n",
       "        text-align: right;\n",
       "    }\n",
       "</style>\n",
       "<table border=\"1\" class=\"dataframe\">\n",
       "  <thead>\n",
       "    <tr style=\"text-align: right;\">\n",
       "      <th></th>\n",
       "      <th>sales</th>\n",
       "      <th>baseline_pred</th>\n",
       "      <th>x_1</th>\n",
       "      <th>x_2</th>\n",
       "      <th>x_3</th>\n",
       "      <th>x_4</th>\n",
       "      <th>x_5</th>\n",
       "      <th>x_6</th>\n",
       "      <th>x_7</th>\n",
       "      <th>x_8</th>\n",
       "      <th>...</th>\n",
       "      <th>y_0</th>\n",
       "      <th>y_1</th>\n",
       "      <th>y_2</th>\n",
       "      <th>y_3</th>\n",
       "      <th>y_4</th>\n",
       "      <th>y_5</th>\n",
       "      <th>y_6</th>\n",
       "      <th>y_7</th>\n",
       "      <th>y_8</th>\n",
       "      <th>y_9</th>\n",
       "    </tr>\n",
       "  </thead>\n",
       "  <tbody>\n",
       "    <tr>\n",
       "      <th>3000738</th>\n",
       "      <td>24.0</td>\n",
       "      <td>24.0</td>\n",
       "      <td>19.0</td>\n",
       "      <td>0.0</td>\n",
       "      <td>202.0</td>\n",
       "      <td>0.0</td>\n",
       "      <td>0.000</td>\n",
       "      <td>4.000</td>\n",
       "      <td>210.000</td>\n",
       "      <td>2.000</td>\n",
       "      <td>...</td>\n",
       "      <td>169.000</td>\n",
       "      <td>0.000</td>\n",
       "      <td>2.000</td>\n",
       "      <td>59.619</td>\n",
       "      <td>94.000</td>\n",
       "      <td>915.371</td>\n",
       "      <td>0.0</td>\n",
       "      <td>3.0</td>\n",
       "      <td>7.0</td>\n",
       "      <td>0.000</td>\n",
       "    </tr>\n",
       "    <tr>\n",
       "      <th>3000739</th>\n",
       "      <td>19.0</td>\n",
       "      <td>19.0</td>\n",
       "      <td>0.0</td>\n",
       "      <td>202.0</td>\n",
       "      <td>0.0</td>\n",
       "      <td>0.0</td>\n",
       "      <td>4.000</td>\n",
       "      <td>210.000</td>\n",
       "      <td>2.000</td>\n",
       "      <td>57.842</td>\n",
       "      <td>...</td>\n",
       "      <td>0.000</td>\n",
       "      <td>2.000</td>\n",
       "      <td>59.619</td>\n",
       "      <td>94.000</td>\n",
       "      <td>915.371</td>\n",
       "      <td>0.000</td>\n",
       "      <td>3.0</td>\n",
       "      <td>7.0</td>\n",
       "      <td>0.0</td>\n",
       "      <td>6.000</td>\n",
       "    </tr>\n",
       "    <tr>\n",
       "      <th>3000740</th>\n",
       "      <td>0.0</td>\n",
       "      <td>0.0</td>\n",
       "      <td>202.0</td>\n",
       "      <td>0.0</td>\n",
       "      <td>0.0</td>\n",
       "      <td>4.0</td>\n",
       "      <td>210.000</td>\n",
       "      <td>2.000</td>\n",
       "      <td>57.842</td>\n",
       "      <td>169.000</td>\n",
       "      <td>...</td>\n",
       "      <td>2.000</td>\n",
       "      <td>59.619</td>\n",
       "      <td>94.000</td>\n",
       "      <td>915.371</td>\n",
       "      <td>0.000</td>\n",
       "      <td>3.000</td>\n",
       "      <td>7.0</td>\n",
       "      <td>0.0</td>\n",
       "      <td>6.0</td>\n",
       "      <td>2678.000</td>\n",
       "    </tr>\n",
       "    <tr>\n",
       "      <th>3000741</th>\n",
       "      <td>202.0</td>\n",
       "      <td>202.0</td>\n",
       "      <td>0.0</td>\n",
       "      <td>0.0</td>\n",
       "      <td>4.0</td>\n",
       "      <td>210.0</td>\n",
       "      <td>2.000</td>\n",
       "      <td>57.842</td>\n",
       "      <td>169.000</td>\n",
       "      <td>0.000</td>\n",
       "      <td>...</td>\n",
       "      <td>59.619</td>\n",
       "      <td>94.000</td>\n",
       "      <td>915.371</td>\n",
       "      <td>0.000</td>\n",
       "      <td>3.000</td>\n",
       "      <td>7.000</td>\n",
       "      <td>0.0</td>\n",
       "      <td>6.0</td>\n",
       "      <td>2678.0</td>\n",
       "      <td>0.000</td>\n",
       "    </tr>\n",
       "    <tr>\n",
       "      <th>3000742</th>\n",
       "      <td>0.0</td>\n",
       "      <td>0.0</td>\n",
       "      <td>0.0</td>\n",
       "      <td>4.0</td>\n",
       "      <td>210.0</td>\n",
       "      <td>2.0</td>\n",
       "      <td>57.842</td>\n",
       "      <td>169.000</td>\n",
       "      <td>0.000</td>\n",
       "      <td>2.000</td>\n",
       "      <td>...</td>\n",
       "      <td>94.000</td>\n",
       "      <td>915.371</td>\n",
       "      <td>0.000</td>\n",
       "      <td>3.000</td>\n",
       "      <td>7.000</td>\n",
       "      <td>0.000</td>\n",
       "      <td>6.0</td>\n",
       "      <td>2678.0</td>\n",
       "      <td>0.0</td>\n",
       "      <td>499.485</td>\n",
       "    </tr>\n",
       "  </tbody>\n",
       "</table>\n",
       "<p>5 rows × 21 columns</p>\n",
       "</div>"
      ],
      "text/plain": [
       "         sales  baseline_pred    x_1    x_2    x_3    x_4      x_5      x_6  \\\n",
       "3000738   24.0           24.0   19.0    0.0  202.0    0.0    0.000    4.000   \n",
       "3000739   19.0           19.0    0.0  202.0    0.0    0.0    4.000  210.000   \n",
       "3000740    0.0            0.0  202.0    0.0    0.0    4.0  210.000    2.000   \n",
       "3000741  202.0          202.0    0.0    0.0    4.0  210.0    2.000   57.842   \n",
       "3000742    0.0            0.0    0.0    4.0  210.0    2.0   57.842  169.000   \n",
       "\n",
       "             x_7      x_8  ...      y_0      y_1      y_2      y_3      y_4  \\\n",
       "3000738  210.000    2.000  ...  169.000    0.000    2.000   59.619   94.000   \n",
       "3000739    2.000   57.842  ...    0.000    2.000   59.619   94.000  915.371   \n",
       "3000740   57.842  169.000  ...    2.000   59.619   94.000  915.371    0.000   \n",
       "3000741  169.000    0.000  ...   59.619   94.000  915.371    0.000    3.000   \n",
       "3000742    0.000    2.000  ...   94.000  915.371    0.000    3.000    7.000   \n",
       "\n",
       "             y_5  y_6     y_7     y_8       y_9  \n",
       "3000738  915.371  0.0     3.0     7.0     0.000  \n",
       "3000739    0.000  3.0     7.0     0.0     6.000  \n",
       "3000740    3.000  7.0     0.0     6.0  2678.000  \n",
       "3000741    7.000  0.0     6.0  2678.0     0.000  \n",
       "3000742    0.000  6.0  2678.0     0.0   499.485  \n",
       "\n",
       "[5 rows x 21 columns]"
      ]
     },
     "execution_count": 26,
     "metadata": {},
     "output_type": "execute_result"
    }
   ],
   "source": [
    "data.tail()"
   ]
  },
  {
   "cell_type": "code",
   "execution_count": 27,
   "id": "134b59dd-263f-490b-aaa3-555e6561c0f8",
   "metadata": {
    "tags": []
   },
   "outputs": [
    {
     "data": {
      "text/plain": [
       "y_0      94.000\n",
       "y_1     915.371\n",
       "y_2       0.000\n",
       "y_3       3.000\n",
       "y_4       7.000\n",
       "y_5       0.000\n",
       "y_6       6.000\n",
       "y_7    2678.000\n",
       "y_8       0.000\n",
       "y_9     499.485\n",
       "Name: 3000742, dtype: float64"
      ]
     },
     "execution_count": 27,
     "metadata": {},
     "output_type": "execute_result"
    }
   ],
   "source": [
    "# Picking up the row predictions.\n",
    "data.filter(like='y').iloc[-1,:]"
   ]
  },
  {
   "cell_type": "code",
   "execution_count": 28,
   "id": "99adda39-2b0e-45a1-aa3c-a12924aa9a93",
   "metadata": {
    "tags": []
   },
   "outputs": [
    {
     "data": {
      "text/plain": [
       "(28512, 5)"
      ]
     },
     "execution_count": 28,
     "metadata": {},
     "output_type": "execute_result"
    }
   ],
   "source": [
    "kaggle_test_df.shape"
   ]
  },
  {
   "cell_type": "code",
   "execution_count": 29,
   "id": "853cfcb0-bbd3-4ae5-a4d4-e547721feef3",
   "metadata": {
    "tags": []
   },
   "outputs": [],
   "source": [
    "target = data['sales']\n",
    "predictors = data.drop(columns='sales')"
   ]
  },
  {
   "cell_type": "code",
   "execution_count": 30,
   "id": "8a0e06c0-ae13-479d-aa19-ae65bd0a904f",
   "metadata": {
    "tags": []
   },
   "outputs": [],
   "source": [
    "TSS = TimeSeriesSplit()"
   ]
  },
  {
   "cell_type": "code",
   "execution_count": 31,
   "id": "e0b829cc-77a9-4f8b-9208-426f304370ad",
   "metadata": {
    "tags": []
   },
   "outputs": [],
   "source": [
    "for train_index, test_index in TSS.split(predictors):\n",
    "    X_train, X_test = predictors.iloc[train_index], predictors.iloc[test_index]\n",
    "    y_train, y_test = target.iloc[train_index], target.iloc[test_index]"
   ]
  },
  {
   "cell_type": "markdown",
   "id": "9a821565-c457-4ad5-9f1f-35ce65c14db4",
   "metadata": {},
   "source": [
    "## Decision Trees\n"
   ]
  },
  {
   "cell_type": "code",
   "execution_count": 32,
   "id": "0bc58184-0ae2-4255-84f5-718d3b96273e",
   "metadata": {
    "tags": []
   },
   "outputs": [],
   "source": [
    "from sklearn.tree import DecisionTreeRegressor"
   ]
  },
  {
   "cell_type": "code",
   "execution_count": 33,
   "id": "60315286-d813-4486-9b8b-aa54a68d9dbe",
   "metadata": {
    "tags": []
   },
   "outputs": [],
   "source": [
    "dTree = DecisionTreeRegressor(max_depth=5, random_state=1)"
   ]
  },
  {
   "cell_type": "code",
   "execution_count": 34,
   "id": "bf3ff1a5-e591-411d-8774-1ec297eaf1c1",
   "metadata": {
    "tags": []
   },
   "outputs": [
    {
     "data": {
      "text/html": [
       "<style>#sk-container-id-1 {color: black;background-color: white;}#sk-container-id-1 pre{padding: 0;}#sk-container-id-1 div.sk-toggleable {background-color: white;}#sk-container-id-1 label.sk-toggleable__label {cursor: pointer;display: block;width: 100%;margin-bottom: 0;padding: 0.3em;box-sizing: border-box;text-align: center;}#sk-container-id-1 label.sk-toggleable__label-arrow:before {content: \"▸\";float: left;margin-right: 0.25em;color: #696969;}#sk-container-id-1 label.sk-toggleable__label-arrow:hover:before {color: black;}#sk-container-id-1 div.sk-estimator:hover label.sk-toggleable__label-arrow:before {color: black;}#sk-container-id-1 div.sk-toggleable__content {max-height: 0;max-width: 0;overflow: hidden;text-align: left;background-color: #f0f8ff;}#sk-container-id-1 div.sk-toggleable__content pre {margin: 0.2em;color: black;border-radius: 0.25em;background-color: #f0f8ff;}#sk-container-id-1 input.sk-toggleable__control:checked~div.sk-toggleable__content {max-height: 200px;max-width: 100%;overflow: auto;}#sk-container-id-1 input.sk-toggleable__control:checked~label.sk-toggleable__label-arrow:before {content: \"▾\";}#sk-container-id-1 div.sk-estimator input.sk-toggleable__control:checked~label.sk-toggleable__label {background-color: #d4ebff;}#sk-container-id-1 div.sk-label input.sk-toggleable__control:checked~label.sk-toggleable__label {background-color: #d4ebff;}#sk-container-id-1 input.sk-hidden--visually {border: 0;clip: rect(1px 1px 1px 1px);clip: rect(1px, 1px, 1px, 1px);height: 1px;margin: -1px;overflow: hidden;padding: 0;position: absolute;width: 1px;}#sk-container-id-1 div.sk-estimator {font-family: monospace;background-color: #f0f8ff;border: 1px dotted black;border-radius: 0.25em;box-sizing: border-box;margin-bottom: 0.5em;}#sk-container-id-1 div.sk-estimator:hover {background-color: #d4ebff;}#sk-container-id-1 div.sk-parallel-item::after {content: \"\";width: 100%;border-bottom: 1px solid gray;flex-grow: 1;}#sk-container-id-1 div.sk-label:hover label.sk-toggleable__label {background-color: #d4ebff;}#sk-container-id-1 div.sk-serial::before {content: \"\";position: absolute;border-left: 1px solid gray;box-sizing: border-box;top: 0;bottom: 0;left: 50%;z-index: 0;}#sk-container-id-1 div.sk-serial {display: flex;flex-direction: column;align-items: center;background-color: white;padding-right: 0.2em;padding-left: 0.2em;position: relative;}#sk-container-id-1 div.sk-item {position: relative;z-index: 1;}#sk-container-id-1 div.sk-parallel {display: flex;align-items: stretch;justify-content: center;background-color: white;position: relative;}#sk-container-id-1 div.sk-item::before, #sk-container-id-1 div.sk-parallel-item::before {content: \"\";position: absolute;border-left: 1px solid gray;box-sizing: border-box;top: 0;bottom: 0;left: 50%;z-index: -1;}#sk-container-id-1 div.sk-parallel-item {display: flex;flex-direction: column;z-index: 1;position: relative;background-color: white;}#sk-container-id-1 div.sk-parallel-item:first-child::after {align-self: flex-end;width: 50%;}#sk-container-id-1 div.sk-parallel-item:last-child::after {align-self: flex-start;width: 50%;}#sk-container-id-1 div.sk-parallel-item:only-child::after {width: 0;}#sk-container-id-1 div.sk-dashed-wrapped {border: 1px dashed gray;margin: 0 0.4em 0.5em 0.4em;box-sizing: border-box;padding-bottom: 0.4em;background-color: white;}#sk-container-id-1 div.sk-label label {font-family: monospace;font-weight: bold;display: inline-block;line-height: 1.2em;}#sk-container-id-1 div.sk-label-container {text-align: center;}#sk-container-id-1 div.sk-container {/* jupyter's `normalize.less` sets `[hidden] { display: none; }` but bootstrap.min.css set `[hidden] { display: none !important; }` so we also need the `!important` here to be able to override the default hidden behavior on the sphinx rendered scikit-learn.org. See: https://github.com/scikit-learn/scikit-learn/issues/21755 */display: inline-block !important;position: relative;}#sk-container-id-1 div.sk-text-repr-fallback {display: none;}</style><div id=\"sk-container-id-1\" class=\"sk-top-container\"><div class=\"sk-text-repr-fallback\"><pre>DecisionTreeRegressor(max_depth=5, random_state=1)</pre><b>In a Jupyter environment, please rerun this cell to show the HTML representation or trust the notebook. <br />On GitHub, the HTML representation is unable to render, please try loading this page with nbviewer.org.</b></div><div class=\"sk-container\" hidden><div class=\"sk-item\"><div class=\"sk-estimator sk-toggleable\"><input class=\"sk-toggleable__control sk-hidden--visually\" id=\"sk-estimator-id-1\" type=\"checkbox\" checked><label for=\"sk-estimator-id-1\" class=\"sk-toggleable__label sk-toggleable__label-arrow\">DecisionTreeRegressor</label><div class=\"sk-toggleable__content\"><pre>DecisionTreeRegressor(max_depth=5, random_state=1)</pre></div></div></div></div></div>"
      ],
      "text/plain": [
       "DecisionTreeRegressor(max_depth=5, random_state=1)"
      ]
     },
     "execution_count": 34,
     "metadata": {},
     "output_type": "execute_result"
    }
   ],
   "source": [
    "dTree.fit(X_train, y_train)"
   ]
  },
  {
   "cell_type": "code",
   "execution_count": 35,
   "id": "907abfc2-49c1-4482-8de7-be2a96068a18",
   "metadata": {
    "tags": []
   },
   "outputs": [
    {
     "data": {
      "text/plain": [
       "0.9944435347213757"
      ]
     },
     "execution_count": 35,
     "metadata": {},
     "output_type": "execute_result"
    }
   ],
   "source": [
    "dTree.score(X_train, y_train)"
   ]
  },
  {
   "cell_type": "markdown",
   "id": "7d965006-5026-499d-b656-98da80c1e565",
   "metadata": {},
   "source": [
    "## Conclusions\n"
   ]
  },
  {
   "cell_type": "code",
   "execution_count": null,
   "id": "5f0f1932-363f-4fb0-b563-5542744f77eb",
   "metadata": {},
   "outputs": [],
   "source": []
  },
  {
   "cell_type": "markdown",
   "id": "df3140d5-1bde-4ad8-bf47-82c8f2529a07",
   "metadata": {},
   "source": [
    "## Evaluation\n"
   ]
  },
  {
   "cell_type": "code",
   "execution_count": 36,
   "id": "857ef624-e84d-4af9-abc3-a6930788b495",
   "metadata": {
    "tags": []
   },
   "outputs": [],
   "source": [
    "from sklearn.metrics import accuracy_score, r2_score"
   ]
  },
  {
   "cell_type": "markdown",
   "id": "2a07fc30-09fb-4ad2-bac0-b652c05805d4",
   "metadata": {},
   "source": [
    "### MAPE"
   ]
  },
  {
   "cell_type": "markdown",
   "id": "9d34da73-a9b1-461b-9146-5ae41e46190c",
   "metadata": {},
   "source": [
    "Our metrics are going to be different from our earlier models.\n",
    "> Here, we use the mean absolute percentage error (MAPE). It is an especially\n",
    "informative error metric, as it return a percentage, which is easy to interpret. Make\n",
    "sure to only apply it when you don’t have values close to 0, which is the case here.\n",
    "\n",
    "> MAPE is not implemented yet in scikit-learn, so we must define the\n",
    "function by hand.\n",
    "\n"
   ]
  },
  {
   "cell_type": "code",
   "execution_count": 37,
   "id": "2189f0df-e49a-4e57-902a-de3fd32a52e0",
   "metadata": {},
   "outputs": [],
   "source": [
    "def mape(y_true, y_pred):\n",
    "    return round(np.mean(np.abs((y_true - y_pred) / y_true)) * 100, 2)"
   ]
  },
  {
   "cell_type": "code",
   "execution_count": 38,
   "id": "66c3474f-e8e4-44ee-83cd-a518b62df77a",
   "metadata": {
    "tags": []
   },
   "outputs": [],
   "source": [
    "predictions = dTree.predict(X_test)"
   ]
  },
  {
   "cell_type": "markdown",
   "id": "a86543e7-8f73-4257-a682-025dea611195",
   "metadata": {},
   "source": [
    "### R Squared\n"
   ]
  },
  {
   "cell_type": "markdown",
   "id": "f66411e1-cfbf-4649-8743-55d74dccb6e9",
   "metadata": {},
   "source": [
    "Since our target variable `sales` is continuous, this is the measure that applies best to it. There are others such as `MSE`. "
   ]
  },
  {
   "cell_type": "code",
   "execution_count": 39,
   "id": "6221e472-2a54-423b-885f-86f0dac1a2af",
   "metadata": {
    "tags": []
   },
   "outputs": [
    {
     "data": {
      "text/plain": [
       "0.9937425936474308"
      ]
     },
     "execution_count": 39,
     "metadata": {},
     "output_type": "execute_result"
    }
   ],
   "source": [
    "r2_score(y_test, predictions)"
   ]
  },
  {
   "cell_type": "markdown",
   "id": "72b54911-2127-436a-a162-1cb551c8468e",
   "metadata": {},
   "source": [
    "# Conclusions\n"
   ]
  },
  {
   "cell_type": "markdown",
   "id": "2f9ff6d9-a022-49fc-b7c2-73034d0eb3f1",
   "metadata": {},
   "source": [
    "This model relates only to predicting future sales given past sales only. Our dataset has other features. This is what I missed at the beginning. We can now use those features below."
   ]
  },
  {
   "cell_type": "markdown",
   "id": "2b1aa4f9-ab1b-4415-bc72-a1f56485ce70",
   "metadata": {
    "tags": []
   },
   "source": [
    "# Model 2\n"
   ]
  },
  {
   "cell_type": "markdown",
   "id": "afed6ba0-b66d-4d47-8dea-d2424e78ed30",
   "metadata": {},
   "source": [
    "We are going to treat this as a regular non time series model and see how good of a result we can get."
   ]
  },
  {
   "cell_type": "markdown",
   "id": "85282e52-5234-4ccc-b728-d61b3e2fa04a",
   "metadata": {},
   "source": [
    "## Preprocessing\n"
   ]
  },
  {
   "cell_type": "code",
   "execution_count": 41,
   "id": "86c7b128-daa2-41af-b43b-59df18e5d103",
   "metadata": {
    "tags": []
   },
   "outputs": [],
   "source": [
    "from sklearn.preprocessing import LabelEncoder"
   ]
  },
  {
   "cell_type": "markdown",
   "id": "8fecfb24-f73b-4c80-9041-16eb4f8d2c1c",
   "metadata": {},
   "source": [
    "For our model to work we must have numeric variables or numerically coded variables. That is essential if we are to guarantee the proper working of the algorithms that follow."
   ]
  },
  {
   "cell_type": "code",
   "execution_count": 42,
   "id": "de249910-c7dd-4f53-9d34-a3c2fd668ba0",
   "metadata": {
    "tags": []
   },
   "outputs": [
    {
     "name": "stdout",
     "output_type": "stream",
     "text": [
      "<class 'pandas.core.frame.DataFrame'>\n",
      "RangeIndex: 3000888 entries, 0 to 3000887\n",
      "Data columns (total 7 columns):\n",
      " #   Column         Dtype         \n",
      "---  ------         -----         \n",
      " 0   id             int64         \n",
      " 1   date           datetime64[ns]\n",
      " 2   store_nbr      int64         \n",
      " 3   family         object        \n",
      " 4   sales          float64       \n",
      " 5   onpromotion    int64         \n",
      " 6   baseline_pred  float64       \n",
      "dtypes: datetime64[ns](1), float64(2), int64(3), object(1)\n",
      "memory usage: 160.3+ MB\n"
     ]
    }
   ],
   "source": [
    "train_df.info()"
   ]
  },
  {
   "cell_type": "markdown",
   "id": "b34036b8-4f82-4bb6-b5ce-7ef852aad77b",
   "metadata": {},
   "source": [
    "We first drop the `date` column as it will not do for our current model."
   ]
  },
  {
   "cell_type": "code",
   "execution_count": 43,
   "id": "5a47f953-dcbd-4dc6-95ed-8b2b6d309a59",
   "metadata": {
    "tags": []
   },
   "outputs": [],
   "source": [
    "train_df.drop(columns='date', inplace=True)"
   ]
  },
  {
   "cell_type": "code",
   "execution_count": 58,
   "id": "76b9836f-f9a6-4017-b77d-76a9f1ec5efe",
   "metadata": {
    "tags": []
   },
   "outputs": [],
   "source": [
    "kaggle_test_df.drop(columns='date', inplace=True)"
   ]
  },
  {
   "cell_type": "markdown",
   "id": "838d7a65-a4d6-4d1b-837f-ec01a7657151",
   "metadata": {},
   "source": [
    "Next we need to numerically code the `family` variable."
   ]
  },
  {
   "cell_type": "code",
   "execution_count": 44,
   "id": "53adb0a8-4c94-46d4-a480-239e03067975",
   "metadata": {
    "tags": []
   },
   "outputs": [
    {
     "data": {
      "text/plain": [
       "array(['AUTOMOTIVE', 'BABY CARE', 'BEAUTY', 'BEVERAGES', 'BOOKS',\n",
       "       'BREAD/BAKERY', 'CELEBRATION', 'CLEANING', 'DAIRY', 'DELI', 'EGGS',\n",
       "       'FROZEN FOODS', 'GROCERY I', 'GROCERY II', 'HARDWARE',\n",
       "       'HOME AND KITCHEN I', 'HOME AND KITCHEN II', 'HOME APPLIANCES',\n",
       "       'HOME CARE', 'LADIESWEAR', 'LAWN AND GARDEN', 'LINGERIE',\n",
       "       'LIQUOR,WINE,BEER', 'MAGAZINES', 'MEATS', 'PERSONAL CARE',\n",
       "       'PET SUPPLIES', 'PLAYERS AND ELECTRONICS', 'POULTRY',\n",
       "       'PREPARED FOODS', 'PRODUCE', 'SCHOOL AND OFFICE SUPPLIES',\n",
       "       'SEAFOOD'], dtype=object)"
      ]
     },
     "execution_count": 44,
     "metadata": {},
     "output_type": "execute_result"
    }
   ],
   "source": [
    "train_df.family.unique()"
   ]
  },
  {
   "cell_type": "code",
   "execution_count": 45,
   "id": "3629beff-a114-4532-9aa7-1353d5af3943",
   "metadata": {
    "tags": []
   },
   "outputs": [],
   "source": [
    "train_df['family'] =  LabelEncoder().fit_transform(train_df.family)"
   ]
  },
  {
   "cell_type": "code",
   "execution_count": 60,
   "id": "64b4a2f3-b299-4ce9-87a8-004a45f1ca9e",
   "metadata": {
    "tags": []
   },
   "outputs": [],
   "source": [
    "kaggle_test_df['family'] =  LabelEncoder().fit_transform(kaggle_test_df.family)"
   ]
  },
  {
   "cell_type": "code",
   "execution_count": 64,
   "id": "42218f8b-11e9-40a5-a363-95761e806e45",
   "metadata": {
    "tags": []
   },
   "outputs": [],
   "source": [
    "# Removing baseline_pred for now\n",
    "train_df.drop(columns='baseline_pred', inplace=True)"
   ]
  },
  {
   "cell_type": "code",
   "execution_count": 71,
   "id": "3bba1d36-5624-49da-b4c0-a7f06e2f8fe8",
   "metadata": {
    "tags": []
   },
   "outputs": [
    {
     "data": {
      "text/html": [
       "<div>\n",
       "<style scoped>\n",
       "    .dataframe tbody tr th:only-of-type {\n",
       "        vertical-align: middle;\n",
       "    }\n",
       "\n",
       "    .dataframe tbody tr th {\n",
       "        vertical-align: top;\n",
       "    }\n",
       "\n",
       "    .dataframe thead th {\n",
       "        text-align: right;\n",
       "    }\n",
       "</style>\n",
       "<table border=\"1\" class=\"dataframe\">\n",
       "  <thead>\n",
       "    <tr style=\"text-align: right;\">\n",
       "      <th></th>\n",
       "      <th>id</th>\n",
       "      <th>store_nbr</th>\n",
       "      <th>family</th>\n",
       "      <th>sales</th>\n",
       "      <th>onpromotion</th>\n",
       "    </tr>\n",
       "  </thead>\n",
       "  <tbody>\n",
       "    <tr>\n",
       "      <th>3000885</th>\n",
       "      <td>3000885</td>\n",
       "      <td>9</td>\n",
       "      <td>30</td>\n",
       "      <td>2419.729</td>\n",
       "      <td>148</td>\n",
       "    </tr>\n",
       "    <tr>\n",
       "      <th>3000886</th>\n",
       "      <td>3000886</td>\n",
       "      <td>9</td>\n",
       "      <td>31</td>\n",
       "      <td>121.000</td>\n",
       "      <td>8</td>\n",
       "    </tr>\n",
       "    <tr>\n",
       "      <th>3000887</th>\n",
       "      <td>3000887</td>\n",
       "      <td>9</td>\n",
       "      <td>32</td>\n",
       "      <td>16.000</td>\n",
       "      <td>0</td>\n",
       "    </tr>\n",
       "  </tbody>\n",
       "</table>\n",
       "</div>"
      ],
      "text/plain": [
       "              id  store_nbr  family     sales  onpromotion\n",
       "3000885  3000885          9      30  2419.729          148\n",
       "3000886  3000886          9      31   121.000            8\n",
       "3000887  3000887          9      32    16.000            0"
      ]
     },
     "execution_count": 71,
     "metadata": {},
     "output_type": "execute_result"
    }
   ],
   "source": [
    "train_df.tail(3)"
   ]
  },
  {
   "cell_type": "markdown",
   "id": "b77d1823-f247-4751-b385-5463526c7503",
   "metadata": {},
   "source": [
    "## Train Test Split"
   ]
  },
  {
   "cell_type": "code",
   "execution_count": 72,
   "id": "7106c6a8-c7b5-4dde-bbff-0cf5bba371e0",
   "metadata": {
    "tags": []
   },
   "outputs": [],
   "source": [
    "target = train_df['sales']\n",
    "predictors = train_df.drop(columns='sales')\n",
    "\n",
    "TSS = TimeSeriesSplit()\n",
    "\n",
    "for train_index, test_index in TSS.split(predictors):\n",
    "    X_train, X_test = predictors.iloc[train_index], predictors.iloc[test_index]\n",
    "    y_train, y_test = target.iloc[train_index], target.iloc[test_index]"
   ]
  },
  {
   "cell_type": "markdown",
   "id": "66cdfe7f-44aa-44b1-9564-4c26c106635c",
   "metadata": {},
   "source": [
    "## Regression Trees"
   ]
  },
  {
   "cell_type": "code",
   "execution_count": 48,
   "id": "60b63954-a8a2-4920-9b53-8ace66fd57f4",
   "metadata": {
    "tags": []
   },
   "outputs": [],
   "source": [
    "from sklearn.tree import DecisionTreeRegressor"
   ]
  },
  {
   "cell_type": "markdown",
   "id": "87687a79-5556-4e08-9031-c5a1bb1894cd",
   "metadata": {},
   "source": [
    "Our target variable is continuous so it will require an algorithm suitable for it. Regression trees can be really effective at this."
   ]
  },
  {
   "cell_type": "code",
   "execution_count": 73,
   "id": "5b64dadc-198f-4e70-aaa0-e1810bf43d76",
   "metadata": {
    "tags": []
   },
   "outputs": [],
   "source": [
    "reg_tree = DecisionTreeRegressor(max_depth=5, random_state=1)"
   ]
  },
  {
   "cell_type": "code",
   "execution_count": 74,
   "id": "6f7d9378-7f05-4988-856f-acfe39072c36",
   "metadata": {
    "tags": []
   },
   "outputs": [
    {
     "data": {
      "text/html": [
       "<style>#sk-container-id-4 {color: black;background-color: white;}#sk-container-id-4 pre{padding: 0;}#sk-container-id-4 div.sk-toggleable {background-color: white;}#sk-container-id-4 label.sk-toggleable__label {cursor: pointer;display: block;width: 100%;margin-bottom: 0;padding: 0.3em;box-sizing: border-box;text-align: center;}#sk-container-id-4 label.sk-toggleable__label-arrow:before {content: \"▸\";float: left;margin-right: 0.25em;color: #696969;}#sk-container-id-4 label.sk-toggleable__label-arrow:hover:before {color: black;}#sk-container-id-4 div.sk-estimator:hover label.sk-toggleable__label-arrow:before {color: black;}#sk-container-id-4 div.sk-toggleable__content {max-height: 0;max-width: 0;overflow: hidden;text-align: left;background-color: #f0f8ff;}#sk-container-id-4 div.sk-toggleable__content pre {margin: 0.2em;color: black;border-radius: 0.25em;background-color: #f0f8ff;}#sk-container-id-4 input.sk-toggleable__control:checked~div.sk-toggleable__content {max-height: 200px;max-width: 100%;overflow: auto;}#sk-container-id-4 input.sk-toggleable__control:checked~label.sk-toggleable__label-arrow:before {content: \"▾\";}#sk-container-id-4 div.sk-estimator input.sk-toggleable__control:checked~label.sk-toggleable__label {background-color: #d4ebff;}#sk-container-id-4 div.sk-label input.sk-toggleable__control:checked~label.sk-toggleable__label {background-color: #d4ebff;}#sk-container-id-4 input.sk-hidden--visually {border: 0;clip: rect(1px 1px 1px 1px);clip: rect(1px, 1px, 1px, 1px);height: 1px;margin: -1px;overflow: hidden;padding: 0;position: absolute;width: 1px;}#sk-container-id-4 div.sk-estimator {font-family: monospace;background-color: #f0f8ff;border: 1px dotted black;border-radius: 0.25em;box-sizing: border-box;margin-bottom: 0.5em;}#sk-container-id-4 div.sk-estimator:hover {background-color: #d4ebff;}#sk-container-id-4 div.sk-parallel-item::after {content: \"\";width: 100%;border-bottom: 1px solid gray;flex-grow: 1;}#sk-container-id-4 div.sk-label:hover label.sk-toggleable__label {background-color: #d4ebff;}#sk-container-id-4 div.sk-serial::before {content: \"\";position: absolute;border-left: 1px solid gray;box-sizing: border-box;top: 0;bottom: 0;left: 50%;z-index: 0;}#sk-container-id-4 div.sk-serial {display: flex;flex-direction: column;align-items: center;background-color: white;padding-right: 0.2em;padding-left: 0.2em;position: relative;}#sk-container-id-4 div.sk-item {position: relative;z-index: 1;}#sk-container-id-4 div.sk-parallel {display: flex;align-items: stretch;justify-content: center;background-color: white;position: relative;}#sk-container-id-4 div.sk-item::before, #sk-container-id-4 div.sk-parallel-item::before {content: \"\";position: absolute;border-left: 1px solid gray;box-sizing: border-box;top: 0;bottom: 0;left: 50%;z-index: -1;}#sk-container-id-4 div.sk-parallel-item {display: flex;flex-direction: column;z-index: 1;position: relative;background-color: white;}#sk-container-id-4 div.sk-parallel-item:first-child::after {align-self: flex-end;width: 50%;}#sk-container-id-4 div.sk-parallel-item:last-child::after {align-self: flex-start;width: 50%;}#sk-container-id-4 div.sk-parallel-item:only-child::after {width: 0;}#sk-container-id-4 div.sk-dashed-wrapped {border: 1px dashed gray;margin: 0 0.4em 0.5em 0.4em;box-sizing: border-box;padding-bottom: 0.4em;background-color: white;}#sk-container-id-4 div.sk-label label {font-family: monospace;font-weight: bold;display: inline-block;line-height: 1.2em;}#sk-container-id-4 div.sk-label-container {text-align: center;}#sk-container-id-4 div.sk-container {/* jupyter's `normalize.less` sets `[hidden] { display: none; }` but bootstrap.min.css set `[hidden] { display: none !important; }` so we also need the `!important` here to be able to override the default hidden behavior on the sphinx rendered scikit-learn.org. See: https://github.com/scikit-learn/scikit-learn/issues/21755 */display: inline-block !important;position: relative;}#sk-container-id-4 div.sk-text-repr-fallback {display: none;}</style><div id=\"sk-container-id-4\" class=\"sk-top-container\"><div class=\"sk-text-repr-fallback\"><pre>DecisionTreeRegressor(max_depth=5, random_state=1)</pre><b>In a Jupyter environment, please rerun this cell to show the HTML representation or trust the notebook. <br />On GitHub, the HTML representation is unable to render, please try loading this page with nbviewer.org.</b></div><div class=\"sk-container\" hidden><div class=\"sk-item\"><div class=\"sk-estimator sk-toggleable\"><input class=\"sk-toggleable__control sk-hidden--visually\" id=\"sk-estimator-id-4\" type=\"checkbox\" checked><label for=\"sk-estimator-id-4\" class=\"sk-toggleable__label sk-toggleable__label-arrow\">DecisionTreeRegressor</label><div class=\"sk-toggleable__content\"><pre>DecisionTreeRegressor(max_depth=5, random_state=1)</pre></div></div></div></div></div>"
      ],
      "text/plain": [
       "DecisionTreeRegressor(max_depth=5, random_state=1)"
      ]
     },
     "execution_count": 74,
     "metadata": {},
     "output_type": "execute_result"
    }
   ],
   "source": [
    "reg_tree.fit(X_train, y_train)"
   ]
  },
  {
   "cell_type": "code",
   "execution_count": 75,
   "id": "8ddc66ce-c2a8-4ccb-99a7-371d16f68f5b",
   "metadata": {
    "tags": []
   },
   "outputs": [
    {
     "data": {
      "text/plain": [
       "0.6222367534346307"
      ]
     },
     "execution_count": 75,
     "metadata": {},
     "output_type": "execute_result"
    }
   ],
   "source": [
    "reg_tree.score(X_train, y_train)"
   ]
  },
  {
   "cell_type": "markdown",
   "id": "a5c42209-16f2-4be6-a743-6762a0a01fc0",
   "metadata": {},
   "source": [
    "### Evaluation metrics\n"
   ]
  },
  {
   "cell_type": "markdown",
   "id": "eafecfb9-61cd-46ff-9c5a-faaf09065ced",
   "metadata": {},
   "source": [
    "The in sample accuracy is impressive at 99%. This is a little too accurate and we may need cross validation to average our expectations of performance on the test set."
   ]
  },
  {
   "cell_type": "markdown",
   "id": "fa3bd410-be56-42c2-85d7-8d800f7b9d27",
   "metadata": {},
   "source": [
    "## Cross Validation "
   ]
  },
  {
   "cell_type": "code",
   "execution_count": 52,
   "id": "2a17e4e8-5544-4fa7-ae67-e77674332c0a",
   "metadata": {
    "tags": []
   },
   "outputs": [],
   "source": [
    "from sklearn.model_selection import cross_val_score"
   ]
  },
  {
   "cell_type": "code",
   "execution_count": 76,
   "id": "39e6c6ea-6566-4522-b500-81344753cec0",
   "metadata": {
    "tags": []
   },
   "outputs": [
    {
     "data": {
      "text/plain": [
       "Text(0.5, 1.0, 'Regression Tree Cross Validation')"
      ]
     },
     "execution_count": 76,
     "metadata": {},
     "output_type": "execute_result"
    },
    {
     "data": {
      "image/png": "[encoded data removed]",
      "text/plain": [
       "<Figure size 432x288 with 1 Axes>"
      ]
     },
     "metadata": {
      "needs_background": "light"
     },
     "output_type": "display_data"
    }
   ],
   "source": [
    "k_folds = 5\n",
    "scores = cross_val_score(reg_tree, X_train, y_train, cv=k_folds)\n",
    "\n",
    "sns.lineplot(x=range(k_folds), y=scores)\n",
    "plt.title(\"Regression Tree Cross Validation\")"
   ]
  },
  {
   "cell_type": "markdown",
   "id": "aee4280a-afc6-4c00-9081-920d0cbda3d4",
   "metadata": {},
   "source": [
    "Cross validation shows us that we can expect an accuracy score in the high 90th percentile."
   ]
  },
  {
   "cell_type": "markdown",
   "id": "7ade5b78-0df6-420a-b969-3709f46748fd",
   "metadata": {},
   "source": [
    "### Hyperparameter Tuning\n"
   ]
  },
  {
   "cell_type": "markdown",
   "id": "ab3ec7af-7600-467d-8a96-360f9cb8452d",
   "metadata": {},
   "source": [
    "Now we go ahead and use `GridSearchCV` to select our models appropriately so we can have a nice averaged representative model."
   ]
  },
  {
   "cell_type": "code",
   "execution_count": 54,
   "id": "15acbd4a-f0f2-438b-a89c-284250871bf9",
   "metadata": {
    "tags": []
   },
   "outputs": [],
   "source": [
    "from sklearn.model_selection import GridSearchCV"
   ]
  },
  {
   "cell_type": "code",
   "execution_count": 55,
   "id": "e6ded7bf-5f4f-475d-8aa2-bf6e795c9595",
   "metadata": {
    "tags": []
   },
   "outputs": [],
   "source": [
    "# param_grid = {'max_depth': [3, 5, 7], 'min_samples_split': [2, 5, 10], 'min_samples_leaf': [1, 2, 4], \n",
    "#               'criterion': [\"squared_error\", \"friedman_mse\", \"absolute_error\",\"poisson\"]}\n",
    "# tree = DecisionTreeRegressor()\n",
    "# regr_tree_cv = GridSearchCV(tree, param_grid, cv=5)\n",
    "# regr_tree_cv.fit(X_train, y_train)\n",
    "# regr_tree_cv.score(X_train, y_train)"
   ]
  },
  {
   "cell_type": "markdown",
   "id": "7d86c7e4-1962-4415-9fdf-51dfe0cb76ad",
   "metadata": {},
   "source": [
    "## Exporting Predictions\n"
   ]
  },
  {
   "cell_type": "code",
   "execution_count": null,
   "id": "89c0faa9-dea6-42ed-be1f-cbdc5d71096f",
   "metadata": {},
   "outputs": [],
   "source": []
  },
  {
   "cell_type": "code",
   "execution_count": 78,
   "id": "17f11471-1f28-49ef-a044-819f49265391",
   "metadata": {
    "tags": []
   },
   "outputs": [],
   "source": [
    "kaggle_test_df['sales'] = reg_tree.predict(kaggle_test_df)"
   ]
  },
  {
   "cell_type": "code",
   "execution_count": 79,
   "id": "a980ffe2-af6f-4880-bf97-cd2539555d92",
   "metadata": {
    "tags": []
   },
   "outputs": [
    {
     "data": {
      "text/html": [
       "<div>\n",
       "<style scoped>\n",
       "    .dataframe tbody tr th:only-of-type {\n",
       "        vertical-align: middle;\n",
       "    }\n",
       "\n",
       "    .dataframe tbody tr th {\n",
       "        vertical-align: top;\n",
       "    }\n",
       "\n",
       "    .dataframe thead th {\n",
       "        text-align: right;\n",
       "    }\n",
       "</style>\n",
       "<table border=\"1\" class=\"dataframe\">\n",
       "  <thead>\n",
       "    <tr style=\"text-align: right;\">\n",
       "      <th></th>\n",
       "      <th>id</th>\n",
       "      <th>store_nbr</th>\n",
       "      <th>family</th>\n",
       "      <th>onpromotion</th>\n",
       "      <th>sales</th>\n",
       "    </tr>\n",
       "  </thead>\n",
       "  <tbody>\n",
       "    <tr>\n",
       "      <th>28507</th>\n",
       "      <td>3029395</td>\n",
       "      <td>9</td>\n",
       "      <td>28</td>\n",
       "      <td>1</td>\n",
       "      <td>205.899628</td>\n",
       "    </tr>\n",
       "    <tr>\n",
       "      <th>28508</th>\n",
       "      <td>3029396</td>\n",
       "      <td>9</td>\n",
       "      <td>29</td>\n",
       "      <td>0</td>\n",
       "      <td>205.899628</td>\n",
       "    </tr>\n",
       "    <tr>\n",
       "      <th>28509</th>\n",
       "      <td>3029397</td>\n",
       "      <td>9</td>\n",
       "      <td>30</td>\n",
       "      <td>1</td>\n",
       "      <td>934.346773</td>\n",
       "    </tr>\n",
       "    <tr>\n",
       "      <th>28510</th>\n",
       "      <td>3029398</td>\n",
       "      <td>9</td>\n",
       "      <td>31</td>\n",
       "      <td>9</td>\n",
       "      <td>56.124316</td>\n",
       "    </tr>\n",
       "    <tr>\n",
       "      <th>28511</th>\n",
       "      <td>3029399</td>\n",
       "      <td>9</td>\n",
       "      <td>32</td>\n",
       "      <td>0</td>\n",
       "      <td>20.576800</td>\n",
       "    </tr>\n",
       "  </tbody>\n",
       "</table>\n",
       "</div>"
      ],
      "text/plain": [
       "            id  store_nbr  family  onpromotion       sales\n",
       "28507  3029395          9      28            1  205.899628\n",
       "28508  3029396          9      29            0  205.899628\n",
       "28509  3029397          9      30            1  934.346773\n",
       "28510  3029398          9      31            9   56.124316\n",
       "28511  3029399          9      32            0   20.576800"
      ]
     },
     "execution_count": 79,
     "metadata": {},
     "output_type": "execute_result"
    }
   ],
   "source": [
    "kaggle_test_df.tail()"
   ]
  },
  {
   "cell_type": "code",
   "execution_count": 80,
   "id": "19f4e019-2c67-48f9-b729-20d5ad148f4a",
   "metadata": {
    "tags": []
   },
   "outputs": [],
   "source": [
    "kaggle_test_df[['id', 'sales']].to_csv(\n",
    "    \"I:/My Drive/Colab Notebooks/All/data/store-sales-time-series-forecasting/predictions.csv\", index=False)"
   ]
  },
  {
   "cell_type": "code",
   "execution_count": null,
   "id": "d5d569a2-18f6-419e-aa0b-5a8c0185b00e",
   "metadata": {},
   "outputs": [],
   "source": []
  }
 ],
 "metadata": {
  "kernelspec": {
   "display_name": "Python 3 (ipykernel)",
   "language": "python",
   "name": "python3"
  },
  "language_info": {
   "codemirror_mode": {
    "name": "ipython",
    "version": 3
   },
   "file_extension": ".py",
   "mimetype": "text/x-python",
   "name": "python",
   "nbconvert_exporter": "python",
   "pygments_lexer": "ipython3",
   "version": "3.10.4"
  }
 },
 "nbformat": 4,
 "nbformat_minor": 5
}
