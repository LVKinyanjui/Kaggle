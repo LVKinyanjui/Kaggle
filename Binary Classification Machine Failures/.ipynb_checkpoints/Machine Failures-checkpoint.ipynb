{
 "cells": [
  {
   "cell_type": "markdown",
   "id": "7ef5de63-1991-4988-a9ba-c31729b4291e",
   "metadata": {},
   "source": [
    "The dataset for this competition (both train and test) was generated from a deep learning model trained on the Machine Failure Predictions"
   ]
  },
  {
   "cell_type": "code",
   "execution_count": 31,
   "id": "91e1cdce-e5eb-482b-b690-1acfdc501cd2",
   "metadata": {
    "tags": []
   },
   "outputs": [],
   "source": [
    "import pandas as pd\n",
    "import seaborn as sns\n",
    "import matplotlib.pyplot as plt"
   ]
  },
  {
   "cell_type": "code",
   "execution_count": 2,
   "id": "1e77fbaf-3f92-4272-835b-b7e2c8b0789e",
   "metadata": {
    "tags": []
   },
   "outputs": [],
   "source": [
    "from sklearn.preprocessing import LabelEncoder"
   ]
  },
  {
   "cell_type": "code",
   "execution_count": 3,
   "id": "91053363-32ed-4882-b3e6-71d019ac6c0f",
   "metadata": {
    "tags": []
   },
   "outputs": [],
   "source": [
    "train = pd.read_csv('train.csv')\n",
    "test = pd.read_csv('test.csv')"
   ]
  },
  {
   "cell_type": "markdown",
   "id": "72280795-6680-4324-9bed-5d54ef43f05b",
   "metadata": {},
   "source": [
    "# Exploration"
   ]
  },
  {
   "cell_type": "markdown",
   "id": "1ba4bd80-053c-4dc5-b8b3-b13f763cae85",
   "metadata": {},
   "source": [
    "## Target\n",
    "\n",
    "We are predicting on the `Machine failure` variable, which is binary."
   ]
  },
  {
   "cell_type": "code",
   "execution_count": 4,
   "id": "994c93d4-ce0c-40b6-b723-e14518452051",
   "metadata": {
    "tags": []
   },
   "outputs": [
    {
     "data": {
      "text/plain": [
       "array([0, 1], dtype=int64)"
      ]
     },
     "execution_count": 4,
     "metadata": {},
     "output_type": "execute_result"
    }
   ],
   "source": [
    "train['Machine failure'].unique()"
   ]
  },
  {
   "cell_type": "code",
   "execution_count": 5,
   "id": "ed386c4d-ab5e-45b0-8b0c-7d2f0f2a93a8",
   "metadata": {
    "tags": []
   },
   "outputs": [
    {
     "data": {
      "text/plain": [
       "numpy.ndarray"
      ]
     },
     "execution_count": 5,
     "metadata": {},
     "output_type": "execute_result"
    }
   ],
   "source": [
    "y_train = train[['Machine failure']].values\n",
    "type(y_train)"
   ]
  },
  {
   "cell_type": "markdown",
   "id": "c5cf635c-8d13-4ab9-818e-f03bb40f6743",
   "metadata": {},
   "source": [
    "## Predictors"
   ]
  },
  {
   "cell_type": "code",
   "execution_count": 6,
   "id": "af3c9cbb-0202-4ed6-b02d-7e44f2442535",
   "metadata": {
    "tags": []
   },
   "outputs": [
    {
     "data": {
      "text/html": [
       "<div>\n",
       "<style scoped>\n",
       "    .dataframe tbody tr th:only-of-type {\n",
       "        vertical-align: middle;\n",
       "    }\n",
       "\n",
       "    .dataframe tbody tr th {\n",
       "        vertical-align: top;\n",
       "    }\n",
       "\n",
       "    .dataframe thead th {\n",
       "        text-align: right;\n",
       "    }\n",
       "</style>\n",
       "<table border=\"1\" class=\"dataframe\">\n",
       "  <thead>\n",
       "    <tr style=\"text-align: right;\">\n",
       "      <th></th>\n",
       "      <th>id</th>\n",
       "      <th>Product ID</th>\n",
       "      <th>Type</th>\n",
       "      <th>Air temperature [K]</th>\n",
       "      <th>Process temperature [K]</th>\n",
       "      <th>Rotational speed [rpm]</th>\n",
       "      <th>Torque [Nm]</th>\n",
       "      <th>Tool wear [min]</th>\n",
       "      <th>Machine failure</th>\n",
       "      <th>TWF</th>\n",
       "      <th>HDF</th>\n",
       "      <th>PWF</th>\n",
       "      <th>OSF</th>\n",
       "      <th>RNF</th>\n",
       "    </tr>\n",
       "  </thead>\n",
       "  <tbody>\n",
       "    <tr>\n",
       "      <th>0</th>\n",
       "      <td>0</td>\n",
       "      <td>L50096</td>\n",
       "      <td>L</td>\n",
       "      <td>300.6</td>\n",
       "      <td>309.6</td>\n",
       "      <td>1596</td>\n",
       "      <td>36.1</td>\n",
       "      <td>140</td>\n",
       "      <td>0</td>\n",
       "      <td>0</td>\n",
       "      <td>0</td>\n",
       "      <td>0</td>\n",
       "      <td>0</td>\n",
       "      <td>0</td>\n",
       "    </tr>\n",
       "    <tr>\n",
       "      <th>1</th>\n",
       "      <td>1</td>\n",
       "      <td>M20343</td>\n",
       "      <td>M</td>\n",
       "      <td>302.6</td>\n",
       "      <td>312.1</td>\n",
       "      <td>1759</td>\n",
       "      <td>29.1</td>\n",
       "      <td>200</td>\n",
       "      <td>0</td>\n",
       "      <td>0</td>\n",
       "      <td>0</td>\n",
       "      <td>0</td>\n",
       "      <td>0</td>\n",
       "      <td>0</td>\n",
       "    </tr>\n",
       "  </tbody>\n",
       "</table>\n",
       "</div>"
      ],
      "text/plain": [
       "   id Product ID Type  Air temperature [K]  Process temperature [K]  \\\n",
       "0   0     L50096    L                300.6                    309.6   \n",
       "1   1     M20343    M                302.6                    312.1   \n",
       "\n",
       "   Rotational speed [rpm]  Torque [Nm]  Tool wear [min]  Machine failure  TWF  \\\n",
       "0                    1596         36.1              140                0    0   \n",
       "1                    1759         29.1              200                0    0   \n",
       "\n",
       "   HDF  PWF  OSF  RNF  \n",
       "0    0    0    0    0  \n",
       "1    0    0    0    0  "
      ]
     },
     "execution_count": 6,
     "metadata": {},
     "output_type": "execute_result"
    }
   ],
   "source": [
    "train.head(2)"
   ]
  },
  {
   "cell_type": "code",
   "execution_count": 7,
   "id": "7cfefb8a-e1a6-46f1-85d7-338b757b7d24",
   "metadata": {
    "tags": []
   },
   "outputs": [
    {
     "data": {
      "text/html": [
       "<div>\n",
       "<style scoped>\n",
       "    .dataframe tbody tr th:only-of-type {\n",
       "        vertical-align: middle;\n",
       "    }\n",
       "\n",
       "    .dataframe tbody tr th {\n",
       "        vertical-align: top;\n",
       "    }\n",
       "\n",
       "    .dataframe thead th {\n",
       "        text-align: right;\n",
       "    }\n",
       "</style>\n",
       "<table border=\"1\" class=\"dataframe\">\n",
       "  <thead>\n",
       "    <tr style=\"text-align: right;\">\n",
       "      <th></th>\n",
       "      <th>id</th>\n",
       "      <th>Product ID</th>\n",
       "      <th>Type</th>\n",
       "      <th>Air temperature [K]</th>\n",
       "      <th>Process temperature [K]</th>\n",
       "      <th>Rotational speed [rpm]</th>\n",
       "      <th>Torque [Nm]</th>\n",
       "      <th>Tool wear [min]</th>\n",
       "      <th>TWF</th>\n",
       "      <th>HDF</th>\n",
       "      <th>PWF</th>\n",
       "      <th>OSF</th>\n",
       "      <th>RNF</th>\n",
       "    </tr>\n",
       "  </thead>\n",
       "  <tbody>\n",
       "    <tr>\n",
       "      <th>0</th>\n",
       "      <td>136429</td>\n",
       "      <td>L50896</td>\n",
       "      <td>L</td>\n",
       "      <td>302.3</td>\n",
       "      <td>311.5</td>\n",
       "      <td>1499</td>\n",
       "      <td>38.0</td>\n",
       "      <td>60</td>\n",
       "      <td>0</td>\n",
       "      <td>0</td>\n",
       "      <td>0</td>\n",
       "      <td>0</td>\n",
       "      <td>0</td>\n",
       "    </tr>\n",
       "    <tr>\n",
       "      <th>1</th>\n",
       "      <td>136430</td>\n",
       "      <td>L53866</td>\n",
       "      <td>L</td>\n",
       "      <td>301.7</td>\n",
       "      <td>311.0</td>\n",
       "      <td>1713</td>\n",
       "      <td>28.8</td>\n",
       "      <td>17</td>\n",
       "      <td>0</td>\n",
       "      <td>0</td>\n",
       "      <td>0</td>\n",
       "      <td>0</td>\n",
       "      <td>0</td>\n",
       "    </tr>\n",
       "  </tbody>\n",
       "</table>\n",
       "</div>"
      ],
      "text/plain": [
       "       id Product ID Type  Air temperature [K]  Process temperature [K]  \\\n",
       "0  136429     L50896    L                302.3                    311.5   \n",
       "1  136430     L53866    L                301.7                    311.0   \n",
       "\n",
       "   Rotational speed [rpm]  Torque [Nm]  Tool wear [min]  TWF  HDF  PWF  OSF  \\\n",
       "0                    1499         38.0               60    0    0    0    0   \n",
       "1                    1713         28.8               17    0    0    0    0   \n",
       "\n",
       "   RNF  \n",
       "0    0  \n",
       "1    0  "
      ]
     },
     "execution_count": 7,
     "metadata": {},
     "output_type": "execute_result"
    }
   ],
   "source": [
    "test.head(2)"
   ]
  },
  {
   "cell_type": "code",
   "execution_count": 8,
   "id": "623e1884-6490-4542-86dd-9c252085011a",
   "metadata": {
    "tags": []
   },
   "outputs": [
    {
     "name": "stdout",
     "output_type": "stream",
     "text": [
      "<class 'pandas.core.frame.DataFrame'>\n",
      "RangeIndex: 136429 entries, 0 to 136428\n",
      "Data columns (total 14 columns):\n",
      " #   Column                   Non-Null Count   Dtype  \n",
      "---  ------                   --------------   -----  \n",
      " 0   id                       136429 non-null  int64  \n",
      " 1   Product ID               136429 non-null  object \n",
      " 2   Type                     136429 non-null  object \n",
      " 3   Air temperature [K]      136429 non-null  float64\n",
      " 4   Process temperature [K]  136429 non-null  float64\n",
      " 5   Rotational speed [rpm]   136429 non-null  int64  \n",
      " 6   Torque [Nm]              136429 non-null  float64\n",
      " 7   Tool wear [min]          136429 non-null  int64  \n",
      " 8   Machine failure          136429 non-null  int64  \n",
      " 9   TWF                      136429 non-null  int64  \n",
      " 10  HDF                      136429 non-null  int64  \n",
      " 11  PWF                      136429 non-null  int64  \n",
      " 12  OSF                      136429 non-null  int64  \n",
      " 13  RNF                      136429 non-null  int64  \n",
      "dtypes: float64(3), int64(9), object(2)\n",
      "memory usage: 14.6+ MB\n"
     ]
    }
   ],
   "source": [
    "train.info()"
   ]
  },
  {
   "cell_type": "markdown",
   "id": "1e60cb97-cbeb-41f3-85e1-e32452161e7b",
   "metadata": {},
   "source": [
    "### Object Type"
   ]
  },
  {
   "cell_type": "code",
   "execution_count": 9,
   "id": "98293e0b-3b34-4d36-a00c-05595e681edf",
   "metadata": {
    "tags": []
   },
   "outputs": [
    {
     "data": {
      "text/html": [
       "<div>\n",
       "<style scoped>\n",
       "    .dataframe tbody tr th:only-of-type {\n",
       "        vertical-align: middle;\n",
       "    }\n",
       "\n",
       "    .dataframe tbody tr th {\n",
       "        vertical-align: top;\n",
       "    }\n",
       "\n",
       "    .dataframe thead th {\n",
       "        text-align: right;\n",
       "    }\n",
       "</style>\n",
       "<table border=\"1\" class=\"dataframe\">\n",
       "  <thead>\n",
       "    <tr style=\"text-align: right;\">\n",
       "      <th></th>\n",
       "      <th>Product ID</th>\n",
       "      <th>Type</th>\n",
       "    </tr>\n",
       "  </thead>\n",
       "  <tbody>\n",
       "    <tr>\n",
       "      <th>0</th>\n",
       "      <td>L50096</td>\n",
       "      <td>L</td>\n",
       "    </tr>\n",
       "    <tr>\n",
       "      <th>1</th>\n",
       "      <td>M20343</td>\n",
       "      <td>M</td>\n",
       "    </tr>\n",
       "  </tbody>\n",
       "</table>\n",
       "</div>"
      ],
      "text/plain": [
       "  Product ID Type\n",
       "0     L50096    L\n",
       "1     M20343    M"
      ]
     },
     "execution_count": 9,
     "metadata": {},
     "output_type": "execute_result"
    }
   ],
   "source": [
    "# Object types\n",
    "train.select_dtypes(include='object').head(2)"
   ]
  },
  {
   "cell_type": "markdown",
   "id": "552508a7-bff7-44ea-adef-2da3220039d4",
   "metadata": {},
   "source": [
    "We get rid of the `Product ID` column since it is only meant for identification. In my understanding, there are no patterns to be learned from it."
   ]
  },
  {
   "cell_type": "code",
   "execution_count": 10,
   "id": "1e069c99-47ad-450c-83ae-58ee10598425",
   "metadata": {
    "tags": []
   },
   "outputs": [],
   "source": [
    "train.drop(columns='Product ID', inplace=True)"
   ]
  },
  {
   "cell_type": "code",
   "execution_count": 11,
   "id": "a1c89016-b94b-44af-9a31-36a8404a8559",
   "metadata": {
    "tags": []
   },
   "outputs": [],
   "source": [
    "test.drop(columns='Product ID', inplace=True)"
   ]
  },
  {
   "cell_type": "markdown",
   "id": "8c22e86f-918a-4cef-a17d-69badf8c8bfa",
   "metadata": {},
   "source": [
    "As for the `Type` column, we encode it numerically to make it palatable to our ML algorithms."
   ]
  },
  {
   "cell_type": "code",
   "execution_count": 12,
   "id": "3af964ce-d8a8-4543-8e5e-5cc07c17bce9",
   "metadata": {
    "tags": []
   },
   "outputs": [
    {
     "data": {
      "text/plain": [
       "array(['L', 'M', 'H'], dtype=object)"
      ]
     },
     "execution_count": 12,
     "metadata": {},
     "output_type": "execute_result"
    }
   ],
   "source": [
    "train.Type.unique()"
   ]
  },
  {
   "cell_type": "markdown",
   "id": "727848c5-8073-48d4-b1b5-32b4106f48cc",
   "metadata": {},
   "source": [
    "It has three levels, which will be ideally represented as `0-1` in the same column. We will avoid `one hot encoding` for now to minimize the number of variables. We will use Sci-kit Learn's `labelEncoder`."
   ]
  },
  {
   "cell_type": "code",
   "execution_count": 13,
   "id": "c1d56485-2629-4202-b2bf-c62e3144be7a",
   "metadata": {
    "tags": []
   },
   "outputs": [],
   "source": [
    "LE = LabelEncoder()\n",
    "\n",
    "train.Type = LE.fit_transform(train.Type)"
   ]
  },
  {
   "cell_type": "code",
   "execution_count": 14,
   "id": "82a0ffba-84e3-4774-9052-bb8e3504515b",
   "metadata": {
    "tags": []
   },
   "outputs": [],
   "source": [
    "test.Type = LE.fit_transform(test.Type)"
   ]
  },
  {
   "cell_type": "code",
   "execution_count": 15,
   "id": "dde7be45-ce3b-493f-b807-11e11591aef8",
   "metadata": {
    "tags": []
   },
   "outputs": [
    {
     "data": {
      "text/plain": [
       "array([1, 2, 0])"
      ]
     },
     "execution_count": 15,
     "metadata": {},
     "output_type": "execute_result"
    }
   ],
   "source": [
    "train.Type.unique()"
   ]
  },
  {
   "cell_type": "code",
   "execution_count": 16,
   "id": "018d4c1b-188e-4343-bfc1-f86e21a56c63",
   "metadata": {
    "tags": []
   },
   "outputs": [
    {
     "data": {
      "text/html": [
       "<div>\n",
       "<style scoped>\n",
       "    .dataframe tbody tr th:only-of-type {\n",
       "        vertical-align: middle;\n",
       "    }\n",
       "\n",
       "    .dataframe tbody tr th {\n",
       "        vertical-align: top;\n",
       "    }\n",
       "\n",
       "    .dataframe thead th {\n",
       "        text-align: right;\n",
       "    }\n",
       "</style>\n",
       "<table border=\"1\" class=\"dataframe\">\n",
       "  <thead>\n",
       "    <tr style=\"text-align: right;\">\n",
       "      <th></th>\n",
       "      <th>id</th>\n",
       "      <th>Type</th>\n",
       "      <th>Air temperature [K]</th>\n",
       "      <th>Process temperature [K]</th>\n",
       "      <th>Rotational speed [rpm]</th>\n",
       "      <th>Torque [Nm]</th>\n",
       "      <th>Tool wear [min]</th>\n",
       "      <th>Machine failure</th>\n",
       "      <th>TWF</th>\n",
       "      <th>HDF</th>\n",
       "      <th>PWF</th>\n",
       "      <th>OSF</th>\n",
       "      <th>RNF</th>\n",
       "    </tr>\n",
       "  </thead>\n",
       "  <tbody>\n",
       "    <tr>\n",
       "      <th>0</th>\n",
       "      <td>0</td>\n",
       "      <td>1</td>\n",
       "      <td>300.6</td>\n",
       "      <td>309.6</td>\n",
       "      <td>1596</td>\n",
       "      <td>36.1</td>\n",
       "      <td>140</td>\n",
       "      <td>0</td>\n",
       "      <td>0</td>\n",
       "      <td>0</td>\n",
       "      <td>0</td>\n",
       "      <td>0</td>\n",
       "      <td>0</td>\n",
       "    </tr>\n",
       "    <tr>\n",
       "      <th>1</th>\n",
       "      <td>1</td>\n",
       "      <td>2</td>\n",
       "      <td>302.6</td>\n",
       "      <td>312.1</td>\n",
       "      <td>1759</td>\n",
       "      <td>29.1</td>\n",
       "      <td>200</td>\n",
       "      <td>0</td>\n",
       "      <td>0</td>\n",
       "      <td>0</td>\n",
       "      <td>0</td>\n",
       "      <td>0</td>\n",
       "      <td>0</td>\n",
       "    </tr>\n",
       "  </tbody>\n",
       "</table>\n",
       "</div>"
      ],
      "text/plain": [
       "   id  Type  Air temperature [K]  Process temperature [K]  \\\n",
       "0   0     1                300.6                    309.6   \n",
       "1   1     2                302.6                    312.1   \n",
       "\n",
       "   Rotational speed [rpm]  Torque [Nm]  Tool wear [min]  Machine failure  TWF  \\\n",
       "0                    1596         36.1              140                0    0   \n",
       "1                    1759         29.1              200                0    0   \n",
       "\n",
       "   HDF  PWF  OSF  RNF  \n",
       "0    0    0    0    0  \n",
       "1    0    0    0    0  "
      ]
     },
     "execution_count": 16,
     "metadata": {},
     "output_type": "execute_result"
    }
   ],
   "source": [
    "train.head(2)"
   ]
  },
  {
   "cell_type": "markdown",
   "id": "1ed34ad1-2895-4ac7-aef8-446e8cdc3840",
   "metadata": {},
   "source": [
    "### Numeric Types"
   ]
  },
  {
   "cell_type": "markdown",
   "id": "ca0c0c39-0510-47f3-a60e-626dfe788005",
   "metadata": {},
   "source": [
    "We now only have numeric variables left. Perhaps what remains to do is `noemalization` and filtering out missing values."
   ]
  },
  {
   "cell_type": "code",
   "execution_count": 17,
   "id": "66168746-7874-4232-ab08-b848e9763256",
   "metadata": {
    "tags": []
   },
   "outputs": [],
   "source": [
    "# train.select_dtypes(exclude='object')"
   ]
  },
  {
   "cell_type": "markdown",
   "id": "2d2dc51b-7753-4c73-bff9-ce3cb8488539",
   "metadata": {},
   "source": [
    "### Missing Values"
   ]
  },
  {
   "cell_type": "code",
   "execution_count": 18,
   "id": "393241a1-ea5b-46d4-8923-357e53a4b4a1",
   "metadata": {
    "tags": []
   },
   "outputs": [
    {
     "data": {
      "text/plain": [
       "id                         False\n",
       "Type                       False\n",
       "Air temperature [K]        False\n",
       "Process temperature [K]    False\n",
       "Rotational speed [rpm]     False\n",
       "Torque [Nm]                False\n",
       "Tool wear [min]            False\n",
       "Machine failure            False\n",
       "TWF                        False\n",
       "HDF                        False\n",
       "PWF                        False\n",
       "OSF                        False\n",
       "RNF                        False\n",
       "dtype: bool"
      ]
     },
     "execution_count": 18,
     "metadata": {},
     "output_type": "execute_result"
    }
   ],
   "source": [
    "train.isna().any()"
   ]
  },
  {
   "cell_type": "markdown",
   "id": "b6069e7b-bcb0-4c47-b26f-c13b554765bf",
   "metadata": {},
   "source": [
    "There are no missing values in our dataset, thankfully. Which makes sense since this is a *synthetic dataset*, it isn't raw data from the wild."
   ]
  },
  {
   "cell_type": "markdown",
   "id": "edf010a6-f153-42ec-beab-c79e52a1ea57",
   "metadata": {},
   "source": [
    "### Zero Columns?\n",
    "\n",
    "The last five columns in the dataset seem to have all their values set to zero at a glance. If so, they may add no value to our model and we may skip them. Let's investigate further."
   ]
  },
  {
   "cell_type": "code",
   "execution_count": 39,
   "id": "30ec0abf-0bb6-4cef-83f7-79dd77b26a3c",
   "metadata": {},
   "outputs": [
    {
     "name": "stdout",
     "output_type": "stream",
     "text": [
      "[0 1]\n",
      "[0 1]\n",
      "[0 1]\n",
      "[0 1]\n",
      "[0 1]\n"
     ]
    }
   ],
   "source": [
    "for column in range(1,6):\n",
    "    print(train.iloc[:,-column].unique())"
   ]
  },
  {
   "cell_type": "markdown",
   "id": "2a199ee6-c027-4cfe-8e2c-cbf7ed6e9a4e",
   "metadata": {},
   "source": [
    "Turn out `HDF, PWF, OSF, RNF, TWF` are binary variables."
   ]
  },
  {
   "cell_type": "code",
   "execution_count": 38,
   "id": "e20c48df-0fd9-4783-86ff-efa0b86d8a57",
   "metadata": {
    "tags": []
   },
   "outputs": [
    {
     "data": {
      "text/plain": [
       "<AxesSubplot:xlabel='HDF', ylabel='Count'>"
      ]
     },
     "execution_count": 38,
     "metadata": {},
     "output_type": "execute_result"
    },
    {
     "data": {
      "image/png": "[encoded data removed]",
      "text/plain": [
       "<Figure size 432x288 with 1 Axes>"
      ]
     },
     "metadata": {
      "needs_background": "light"
     },
     "output_type": "display_data"
    }
   ],
   "source": []
  },
  {
   "cell_type": "markdown",
   "id": "f7c023bd-3902-4a8c-9867-1b4dab45e664",
   "metadata": {},
   "source": [
    "### Normalization"
   ]
  },
  {
   "cell_type": "code",
   "execution_count": 19,
   "id": "e818b239-78ff-4c36-bbaa-702e67a795ba",
   "metadata": {
    "tags": []
   },
   "outputs": [],
   "source": [
    "from sklearn.preprocessing import StandardScaler"
   ]
  },
  {
   "cell_type": "code",
   "execution_count": 20,
   "id": "cb3fe24d-f8ae-495e-b6b2-5304a26bbc67",
   "metadata": {
    "tags": []
   },
   "outputs": [],
   "source": [
    "SCALE = StandardScaler()"
   ]
  },
  {
   "cell_type": "code",
   "execution_count": 21,
   "id": "c138f129-4836-46e9-9ea0-37865f3c7381",
   "metadata": {
    "tags": []
   },
   "outputs": [
    {
     "data": {
      "text/plain": [
       "array([[-1.73203176, -0.32712561,  1.31383019, ..., -0.04856322,\n",
       "        -0.06233076, -0.04810616],\n",
       "       [-1.73199368, -0.32712561,  0.99082435, ..., -0.04856322,\n",
       "        -0.06233076, -0.04810616],\n",
       "       [-1.73195559, -0.32712561,  0.77548712, ..., -0.04856322,\n",
       "        -0.06233076, -0.04810616],\n",
       "       ...,\n",
       "       [ 1.73195559, -0.32712561, -2.29306839, ..., -0.04856322,\n",
       "        -0.06233076, -0.04810616],\n",
       "       [ 1.73199368, -0.32712561, -0.94721071, ..., -0.04856322,\n",
       "        -0.06233076, -0.04810616],\n",
       "       [ 1.73203176, -0.32712561,  1.95984188, ..., -0.04856322,\n",
       "        -0.06233076, -0.04810616]])"
      ]
     },
     "execution_count": 21,
     "metadata": {},
     "output_type": "execute_result"
    }
   ],
   "source": [
    "SCALE.fit_transform(train)\n",
    "SCALE.fit_transform(test)"
   ]
  },
  {
   "cell_type": "markdown",
   "id": "9108bb71-a2e5-4cd5-a341-9ebf313bd8c8",
   "metadata": {},
   "source": [
    "### Plots"
   ]
  },
  {
   "cell_type": "code",
   "execution_count": 50,
   "id": "f0ff9bbb-a731-42aa-a699-05873086c4d6",
   "metadata": {},
   "outputs": [
    {
     "data": {
      "image/png": "[encoded data removed]",
      "text/plain": [
       "<Figure size 1152x720 with 16 Axes>"
      ]
     },
     "metadata": {
      "needs_background": "light"
     },
     "output_type": "display_data"
    }
   ],
   "source": [
    "fig = train.hist(figsize=(16,10))"
   ]
  },
  {
   "cell_type": "markdown",
   "id": "848dcd5f-225d-49fd-ab46-4a26d2eea90c",
   "metadata": {},
   "source": [
    "The target variable and the variables `HDF, PWF, OSF, RNF, TWF` are inbalanced. They have way more cases in one class than the other. We best be mindful of that as that is likely to affect our learning techniques. Possible effects include:\n",
    "1. **Bias**. If the target variable is imbalanced the classifiers bias towards the majority class. This can result in `low recall` or `low sensitivity` for the positive class.\n",
    "2. **Deceptive accuracy**. May be highly accurate on the majority class only. Alternative evaluation metrics such as precision, recall, `F1 score`, or area under the Receiver Operating Characteristic (`ROC`) curve should be used"
   ]
  },
  {
   "cell_type": "code",
   "execution_count": null,
   "id": "2ba461d5-784a-411e-a748-aa87581e321f",
   "metadata": {},
   "outputs": [],
   "source": []
  }
 ],
 "metadata": {
  "kernelspec": {
   "display_name": "Python 3 (ipykernel)",
   "language": "python",
   "name": "python3"
  },
  "language_info": {
   "codemirror_mode": {
    "name": "ipython",
    "version": 3
   },
   "file_extension": ".py",
   "mimetype": "text/x-python",
   "name": "python",
   "nbconvert_exporter": "python",
   "pygments_lexer": "ipython3",
   "version": "3.10.4"
  }
 },
 "nbformat": 4,
 "nbformat_minor": 5
}
