{
 "cells": [
  {
   "cell_type": "markdown",
   "id": "7ef5de63-1991-4988-a9ba-c31729b4291e",
   "metadata": {},
   "source": [
    "The dataset for this competition (both train and test) was generated from a deep learning model trained on the Machine Failure Predictions"
   ]
  },
  {
   "cell_type": "code",
   "execution_count": 111,
   "id": "91e1cdce-e5eb-482b-b690-1acfdc501cd2",
   "metadata": {
    "tags": []
   },
   "outputs": [],
   "source": [
    "import pandas as pd\n",
    "import seaborn as sns\n",
    "import matplotlib.pyplot as plt"
   ]
  },
  {
   "cell_type": "code",
   "execution_count": 112,
   "id": "1e77fbaf-3f92-4272-835b-b7e2c8b0789e",
   "metadata": {
    "tags": []
   },
   "outputs": [],
   "source": [
    "from sklearn.preprocessing import LabelEncoder"
   ]
  },
  {
   "cell_type": "code",
   "execution_count": 113,
   "id": "91053363-32ed-4882-b3e6-71d019ac6c0f",
   "metadata": {
    "tags": []
   },
   "outputs": [],
   "source": [
    "train = pd.read_csv('train.csv')\n",
    "test = pd.read_csv('test.csv')"
   ]
  },
  {
   "cell_type": "markdown",
   "id": "72280795-6680-4324-9bed-5d54ef43f05b",
   "metadata": {},
   "source": [
    "# Exploration"
   ]
  },
  {
   "cell_type": "markdown",
   "id": "1ba4bd80-053c-4dc5-b8b3-b13f763cae85",
   "metadata": {},
   "source": [
    "## Target\n",
    "\n",
    "We are predicting on the `Machine failure` variable, which is binary."
   ]
  },
  {
   "cell_type": "code",
   "execution_count": 114,
   "id": "994c93d4-ce0c-40b6-b723-e14518452051",
   "metadata": {
    "tags": []
   },
   "outputs": [
    {
     "data": {
      "text/plain": [
       "array([0, 1], dtype=int64)"
      ]
     },
     "execution_count": 114,
     "metadata": {},
     "output_type": "execute_result"
    }
   ],
   "source": [
    "train['Machine failure'].unique()"
   ]
  },
  {
   "cell_type": "code",
   "execution_count": 115,
   "id": "ed386c4d-ab5e-45b0-8b0c-7d2f0f2a93a8",
   "metadata": {
    "tags": []
   },
   "outputs": [
    {
     "data": {
      "text/plain": [
       "numpy.ndarray"
      ]
     },
     "execution_count": 115,
     "metadata": {},
     "output_type": "execute_result"
    }
   ],
   "source": [
    "y = train[['Machine failure']].values.ravel()\n",
    "type(y)"
   ]
  },
  {
   "cell_type": "markdown",
   "id": "63f422ca-0d63-4c75-aacd-70a825d064af",
   "metadata": {},
   "source": [
    "### Explanation\n",
    "There is an error that results from using a 1d numpy array \n",
    "```\n",
    "A column-vector y was passed when a 1d array was expected\n",
    "```\n",
    "`.values` will give the values in a numpy array (shape: (n,1))\n",
    "`.ravel` will convert that array shape to (n, ) (i.e. flatten it), resolving the error."
   ]
  },
  {
   "cell_type": "code",
   "execution_count": 116,
   "id": "16acac10-142b-4683-b04f-837df22c59b4",
   "metadata": {
    "tags": []
   },
   "outputs": [
    {
     "data": {
      "text/plain": [
       "array([[<AxesSubplot:title={'center':'Machine failure'}>]], dtype=object)"
      ]
     },
     "execution_count": 116,
     "metadata": {},
     "output_type": "execute_result"
    },
    {
     "data": {
      "image/png": "[encoded data removed]",
      "text/plain": [
       "<Figure size 432x288 with 1 Axes>"
      ]
     },
     "metadata": {
      "needs_background": "light"
     },
     "output_type": "display_data"
    }
   ],
   "source": [
    "train[['Machine failure']].hist()"
   ]
  },
  {
   "cell_type": "markdown",
   "id": "1788e817-1201-4e20-a795-73a4d7c115be",
   "metadata": {},
   "source": [
    "The target variable clearly has issues. we will revisit this later on."
   ]
  },
  {
   "cell_type": "code",
   "execution_count": 117,
   "id": "e6aaea67-f405-4b3b-890d-7a68efb9cfd0",
   "metadata": {
    "tags": []
   },
   "outputs": [
    {
     "data": {
      "text/plain": [
       "(136429, 13)"
      ]
     },
     "execution_count": 117,
     "metadata": {},
     "output_type": "execute_result"
    }
   ],
   "source": [
    "# Dropping it from the dataframe\n",
    "train.drop(columns='Machine failure', inplace=True)\n",
    "train.shape"
   ]
  },
  {
   "cell_type": "markdown",
   "id": "c5cf635c-8d13-4ab9-818e-f03bb40f6743",
   "metadata": {},
   "source": [
    "## Predictors"
   ]
  },
  {
   "cell_type": "code",
   "execution_count": 118,
   "id": "af3c9cbb-0202-4ed6-b02d-7e44f2442535",
   "metadata": {
    "tags": []
   },
   "outputs": [
    {
     "data": {
      "text/html": [
       "<div>\n",
       "<style scoped>\n",
       "    .dataframe tbody tr th:only-of-type {\n",
       "        vertical-align: middle;\n",
       "    }\n",
       "\n",
       "    .dataframe tbody tr th {\n",
       "        vertical-align: top;\n",
       "    }\n",
       "\n",
       "    .dataframe thead th {\n",
       "        text-align: right;\n",
       "    }\n",
       "</style>\n",
       "<table border=\"1\" class=\"dataframe\">\n",
       "  <thead>\n",
       "    <tr style=\"text-align: right;\">\n",
       "      <th></th>\n",
       "      <th>id</th>\n",
       "      <th>Product ID</th>\n",
       "      <th>Type</th>\n",
       "      <th>Air temperature [K]</th>\n",
       "      <th>Process temperature [K]</th>\n",
       "      <th>Rotational speed [rpm]</th>\n",
       "      <th>Torque [Nm]</th>\n",
       "      <th>Tool wear [min]</th>\n",
       "      <th>TWF</th>\n",
       "      <th>HDF</th>\n",
       "      <th>PWF</th>\n",
       "      <th>OSF</th>\n",
       "      <th>RNF</th>\n",
       "    </tr>\n",
       "  </thead>\n",
       "  <tbody>\n",
       "    <tr>\n",
       "      <th>0</th>\n",
       "      <td>0</td>\n",
       "      <td>L50096</td>\n",
       "      <td>L</td>\n",
       "      <td>300.6</td>\n",
       "      <td>309.6</td>\n",
       "      <td>1596</td>\n",
       "      <td>36.1</td>\n",
       "      <td>140</td>\n",
       "      <td>0</td>\n",
       "      <td>0</td>\n",
       "      <td>0</td>\n",
       "      <td>0</td>\n",
       "      <td>0</td>\n",
       "    </tr>\n",
       "    <tr>\n",
       "      <th>1</th>\n",
       "      <td>1</td>\n",
       "      <td>M20343</td>\n",
       "      <td>M</td>\n",
       "      <td>302.6</td>\n",
       "      <td>312.1</td>\n",
       "      <td>1759</td>\n",
       "      <td>29.1</td>\n",
       "      <td>200</td>\n",
       "      <td>0</td>\n",
       "      <td>0</td>\n",
       "      <td>0</td>\n",
       "      <td>0</td>\n",
       "      <td>0</td>\n",
       "    </tr>\n",
       "  </tbody>\n",
       "</table>\n",
       "</div>"
      ],
      "text/plain": [
       "   id Product ID Type  Air temperature [K]  Process temperature [K]  \\\n",
       "0   0     L50096    L                300.6                    309.6   \n",
       "1   1     M20343    M                302.6                    312.1   \n",
       "\n",
       "   Rotational speed [rpm]  Torque [Nm]  Tool wear [min]  TWF  HDF  PWF  OSF  \\\n",
       "0                    1596         36.1              140    0    0    0    0   \n",
       "1                    1759         29.1              200    0    0    0    0   \n",
       "\n",
       "   RNF  \n",
       "0    0  \n",
       "1    0  "
      ]
     },
     "execution_count": 118,
     "metadata": {},
     "output_type": "execute_result"
    }
   ],
   "source": [
    "train.head(2)"
   ]
  },
  {
   "cell_type": "code",
   "execution_count": 119,
   "id": "7cfefb8a-e1a6-46f1-85d7-338b757b7d24",
   "metadata": {
    "tags": []
   },
   "outputs": [
    {
     "data": {
      "text/html": [
       "<div>\n",
       "<style scoped>\n",
       "    .dataframe tbody tr th:only-of-type {\n",
       "        vertical-align: middle;\n",
       "    }\n",
       "\n",
       "    .dataframe tbody tr th {\n",
       "        vertical-align: top;\n",
       "    }\n",
       "\n",
       "    .dataframe thead th {\n",
       "        text-align: right;\n",
       "    }\n",
       "</style>\n",
       "<table border=\"1\" class=\"dataframe\">\n",
       "  <thead>\n",
       "    <tr style=\"text-align: right;\">\n",
       "      <th></th>\n",
       "      <th>id</th>\n",
       "      <th>Product ID</th>\n",
       "      <th>Type</th>\n",
       "      <th>Air temperature [K]</th>\n",
       "      <th>Process temperature [K]</th>\n",
       "      <th>Rotational speed [rpm]</th>\n",
       "      <th>Torque [Nm]</th>\n",
       "      <th>Tool wear [min]</th>\n",
       "      <th>TWF</th>\n",
       "      <th>HDF</th>\n",
       "      <th>PWF</th>\n",
       "      <th>OSF</th>\n",
       "      <th>RNF</th>\n",
       "    </tr>\n",
       "  </thead>\n",
       "  <tbody>\n",
       "    <tr>\n",
       "      <th>0</th>\n",
       "      <td>136429</td>\n",
       "      <td>L50896</td>\n",
       "      <td>L</td>\n",
       "      <td>302.3</td>\n",
       "      <td>311.5</td>\n",
       "      <td>1499</td>\n",
       "      <td>38.0</td>\n",
       "      <td>60</td>\n",
       "      <td>0</td>\n",
       "      <td>0</td>\n",
       "      <td>0</td>\n",
       "      <td>0</td>\n",
       "      <td>0</td>\n",
       "    </tr>\n",
       "    <tr>\n",
       "      <th>1</th>\n",
       "      <td>136430</td>\n",
       "      <td>L53866</td>\n",
       "      <td>L</td>\n",
       "      <td>301.7</td>\n",
       "      <td>311.0</td>\n",
       "      <td>1713</td>\n",
       "      <td>28.8</td>\n",
       "      <td>17</td>\n",
       "      <td>0</td>\n",
       "      <td>0</td>\n",
       "      <td>0</td>\n",
       "      <td>0</td>\n",
       "      <td>0</td>\n",
       "    </tr>\n",
       "  </tbody>\n",
       "</table>\n",
       "</div>"
      ],
      "text/plain": [
       "       id Product ID Type  Air temperature [K]  Process temperature [K]  \\\n",
       "0  136429     L50896    L                302.3                    311.5   \n",
       "1  136430     L53866    L                301.7                    311.0   \n",
       "\n",
       "   Rotational speed [rpm]  Torque [Nm]  Tool wear [min]  TWF  HDF  PWF  OSF  \\\n",
       "0                    1499         38.0               60    0    0    0    0   \n",
       "1                    1713         28.8               17    0    0    0    0   \n",
       "\n",
       "   RNF  \n",
       "0    0  \n",
       "1    0  "
      ]
     },
     "execution_count": 119,
     "metadata": {},
     "output_type": "execute_result"
    }
   ],
   "source": [
    "test.head(2)"
   ]
  },
  {
   "cell_type": "code",
   "execution_count": 120,
   "id": "623e1884-6490-4542-86dd-9c252085011a",
   "metadata": {
    "tags": []
   },
   "outputs": [
    {
     "name": "stdout",
     "output_type": "stream",
     "text": [
      "<class 'pandas.core.frame.DataFrame'>\n",
      "RangeIndex: 136429 entries, 0 to 136428\n",
      "Data columns (total 13 columns):\n",
      " #   Column                   Non-Null Count   Dtype  \n",
      "---  ------                   --------------   -----  \n",
      " 0   id                       136429 non-null  int64  \n",
      " 1   Product ID               136429 non-null  object \n",
      " 2   Type                     136429 non-null  object \n",
      " 3   Air temperature [K]      136429 non-null  float64\n",
      " 4   Process temperature [K]  136429 non-null  float64\n",
      " 5   Rotational speed [rpm]   136429 non-null  int64  \n",
      " 6   Torque [Nm]              136429 non-null  float64\n",
      " 7   Tool wear [min]          136429 non-null  int64  \n",
      " 8   TWF                      136429 non-null  int64  \n",
      " 9   HDF                      136429 non-null  int64  \n",
      " 10  PWF                      136429 non-null  int64  \n",
      " 11  OSF                      136429 non-null  int64  \n",
      " 12  RNF                      136429 non-null  int64  \n",
      "dtypes: float64(3), int64(8), object(2)\n",
      "memory usage: 13.5+ MB\n"
     ]
    }
   ],
   "source": [
    "train.info()"
   ]
  },
  {
   "cell_type": "markdown",
   "id": "1e60cb97-cbeb-41f3-85e1-e32452161e7b",
   "metadata": {},
   "source": [
    "### Object Type"
   ]
  },
  {
   "cell_type": "code",
   "execution_count": 121,
   "id": "98293e0b-3b34-4d36-a00c-05595e681edf",
   "metadata": {
    "tags": []
   },
   "outputs": [
    {
     "data": {
      "text/html": [
       "<div>\n",
       "<style scoped>\n",
       "    .dataframe tbody tr th:only-of-type {\n",
       "        vertical-align: middle;\n",
       "    }\n",
       "\n",
       "    .dataframe tbody tr th {\n",
       "        vertical-align: top;\n",
       "    }\n",
       "\n",
       "    .dataframe thead th {\n",
       "        text-align: right;\n",
       "    }\n",
       "</style>\n",
       "<table border=\"1\" class=\"dataframe\">\n",
       "  <thead>\n",
       "    <tr style=\"text-align: right;\">\n",
       "      <th></th>\n",
       "      <th>Product ID</th>\n",
       "      <th>Type</th>\n",
       "    </tr>\n",
       "  </thead>\n",
       "  <tbody>\n",
       "    <tr>\n",
       "      <th>0</th>\n",
       "      <td>L50096</td>\n",
       "      <td>L</td>\n",
       "    </tr>\n",
       "    <tr>\n",
       "      <th>1</th>\n",
       "      <td>M20343</td>\n",
       "      <td>M</td>\n",
       "    </tr>\n",
       "  </tbody>\n",
       "</table>\n",
       "</div>"
      ],
      "text/plain": [
       "  Product ID Type\n",
       "0     L50096    L\n",
       "1     M20343    M"
      ]
     },
     "execution_count": 121,
     "metadata": {},
     "output_type": "execute_result"
    }
   ],
   "source": [
    "# Object types\n",
    "train.select_dtypes(include='object').head(2)"
   ]
  },
  {
   "cell_type": "markdown",
   "id": "552508a7-bff7-44ea-adef-2da3220039d4",
   "metadata": {},
   "source": [
    "We get rid of the `Product ID` column since it is only meant for identification. In my understanding, there are no patterns to be learned from it."
   ]
  },
  {
   "cell_type": "code",
   "execution_count": 122,
   "id": "1e069c99-47ad-450c-83ae-58ee10598425",
   "metadata": {
    "tags": []
   },
   "outputs": [],
   "source": [
    "train.drop(columns='Product ID', inplace=True)"
   ]
  },
  {
   "cell_type": "code",
   "execution_count": 123,
   "id": "a1c89016-b94b-44af-9a31-36a8404a8559",
   "metadata": {
    "tags": []
   },
   "outputs": [],
   "source": [
    "test.drop(columns='Product ID', inplace=True)"
   ]
  },
  {
   "cell_type": "markdown",
   "id": "8c22e86f-918a-4cef-a17d-69badf8c8bfa",
   "metadata": {},
   "source": [
    "As for the `Type` column, we encode it numerically to make it palatable to our ML algorithms."
   ]
  },
  {
   "cell_type": "code",
   "execution_count": 124,
   "id": "3af964ce-d8a8-4543-8e5e-5cc07c17bce9",
   "metadata": {
    "tags": []
   },
   "outputs": [
    {
     "data": {
      "text/plain": [
       "array(['L', 'M', 'H'], dtype=object)"
      ]
     },
     "execution_count": 124,
     "metadata": {},
     "output_type": "execute_result"
    }
   ],
   "source": [
    "train.Type.unique()"
   ]
  },
  {
   "cell_type": "markdown",
   "id": "727848c5-8073-48d4-b1b5-32b4106f48cc",
   "metadata": {},
   "source": [
    "It has three levels, which will be ideally represented as `0-1` in the same column. We will avoid `one hot encoding` for now to minimize the number of variables. We will use Sci-kit Learn's `labelEncoder`."
   ]
  },
  {
   "cell_type": "code",
   "execution_count": 125,
   "id": "c1d56485-2629-4202-b2bf-c62e3144be7a",
   "metadata": {
    "tags": []
   },
   "outputs": [],
   "source": [
    "LE = LabelEncoder()\n",
    "\n",
    "train.Type = LE.fit_transform(train.Type)"
   ]
  },
  {
   "cell_type": "code",
   "execution_count": 126,
   "id": "82a0ffba-84e3-4774-9052-bb8e3504515b",
   "metadata": {
    "tags": []
   },
   "outputs": [],
   "source": [
    "test.Type = LE.fit_transform(test.Type)"
   ]
  },
  {
   "cell_type": "code",
   "execution_count": 127,
   "id": "dde7be45-ce3b-493f-b807-11e11591aef8",
   "metadata": {
    "tags": []
   },
   "outputs": [
    {
     "data": {
      "text/plain": [
       "array([1, 2, 0])"
      ]
     },
     "execution_count": 127,
     "metadata": {},
     "output_type": "execute_result"
    }
   ],
   "source": [
    "train.Type.unique()"
   ]
  },
  {
   "cell_type": "code",
   "execution_count": 128,
   "id": "018d4c1b-188e-4343-bfc1-f86e21a56c63",
   "metadata": {
    "tags": []
   },
   "outputs": [
    {
     "data": {
      "text/html": [
       "<div>\n",
       "<style scoped>\n",
       "    .dataframe tbody tr th:only-of-type {\n",
       "        vertical-align: middle;\n",
       "    }\n",
       "\n",
       "    .dataframe tbody tr th {\n",
       "        vertical-align: top;\n",
       "    }\n",
       "\n",
       "    .dataframe thead th {\n",
       "        text-align: right;\n",
       "    }\n",
       "</style>\n",
       "<table border=\"1\" class=\"dataframe\">\n",
       "  <thead>\n",
       "    <tr style=\"text-align: right;\">\n",
       "      <th></th>\n",
       "      <th>id</th>\n",
       "      <th>Type</th>\n",
       "      <th>Air temperature [K]</th>\n",
       "      <th>Process temperature [K]</th>\n",
       "      <th>Rotational speed [rpm]</th>\n",
       "      <th>Torque [Nm]</th>\n",
       "      <th>Tool wear [min]</th>\n",
       "      <th>TWF</th>\n",
       "      <th>HDF</th>\n",
       "      <th>PWF</th>\n",
       "      <th>OSF</th>\n",
       "      <th>RNF</th>\n",
       "    </tr>\n",
       "  </thead>\n",
       "  <tbody>\n",
       "    <tr>\n",
       "      <th>0</th>\n",
       "      <td>0</td>\n",
       "      <td>1</td>\n",
       "      <td>300.6</td>\n",
       "      <td>309.6</td>\n",
       "      <td>1596</td>\n",
       "      <td>36.1</td>\n",
       "      <td>140</td>\n",
       "      <td>0</td>\n",
       "      <td>0</td>\n",
       "      <td>0</td>\n",
       "      <td>0</td>\n",
       "      <td>0</td>\n",
       "    </tr>\n",
       "    <tr>\n",
       "      <th>1</th>\n",
       "      <td>1</td>\n",
       "      <td>2</td>\n",
       "      <td>302.6</td>\n",
       "      <td>312.1</td>\n",
       "      <td>1759</td>\n",
       "      <td>29.1</td>\n",
       "      <td>200</td>\n",
       "      <td>0</td>\n",
       "      <td>0</td>\n",
       "      <td>0</td>\n",
       "      <td>0</td>\n",
       "      <td>0</td>\n",
       "    </tr>\n",
       "  </tbody>\n",
       "</table>\n",
       "</div>"
      ],
      "text/plain": [
       "   id  Type  Air temperature [K]  Process temperature [K]  \\\n",
       "0   0     1                300.6                    309.6   \n",
       "1   1     2                302.6                    312.1   \n",
       "\n",
       "   Rotational speed [rpm]  Torque [Nm]  Tool wear [min]  TWF  HDF  PWF  OSF  \\\n",
       "0                    1596         36.1              140    0    0    0    0   \n",
       "1                    1759         29.1              200    0    0    0    0   \n",
       "\n",
       "   RNF  \n",
       "0    0  \n",
       "1    0  "
      ]
     },
     "execution_count": 128,
     "metadata": {},
     "output_type": "execute_result"
    }
   ],
   "source": [
    "train.head(2)"
   ]
  },
  {
   "cell_type": "markdown",
   "id": "1ed34ad1-2895-4ac7-aef8-446e8cdc3840",
   "metadata": {},
   "source": [
    "### Numeric Types"
   ]
  },
  {
   "cell_type": "markdown",
   "id": "ca0c0c39-0510-47f3-a60e-626dfe788005",
   "metadata": {},
   "source": [
    "We now only have numeric variables left. Perhaps what remains to do is `noemalization` and filtering out missing values."
   ]
  },
  {
   "cell_type": "code",
   "execution_count": 129,
   "id": "66168746-7874-4232-ab08-b848e9763256",
   "metadata": {
    "tags": []
   },
   "outputs": [],
   "source": [
    "# train.select_dtypes(exclude='object')"
   ]
  },
  {
   "cell_type": "markdown",
   "id": "2d2dc51b-7753-4c73-bff9-ce3cb8488539",
   "metadata": {},
   "source": [
    "### Missing Values"
   ]
  },
  {
   "cell_type": "code",
   "execution_count": 130,
   "id": "393241a1-ea5b-46d4-8923-357e53a4b4a1",
   "metadata": {
    "tags": []
   },
   "outputs": [
    {
     "data": {
      "text/plain": [
       "id                         False\n",
       "Type                       False\n",
       "Air temperature [K]        False\n",
       "Process temperature [K]    False\n",
       "Rotational speed [rpm]     False\n",
       "Torque [Nm]                False\n",
       "Tool wear [min]            False\n",
       "TWF                        False\n",
       "HDF                        False\n",
       "PWF                        False\n",
       "OSF                        False\n",
       "RNF                        False\n",
       "dtype: bool"
      ]
     },
     "execution_count": 130,
     "metadata": {},
     "output_type": "execute_result"
    }
   ],
   "source": [
    "train.isna().any()"
   ]
  },
  {
   "cell_type": "markdown",
   "id": "b6069e7b-bcb0-4c47-b26f-c13b554765bf",
   "metadata": {},
   "source": [
    "There are no missing values in our dataset, thankfully. Which makes sense since this is a *synthetic dataset*, it isn't raw data from the wild."
   ]
  },
  {
   "cell_type": "markdown",
   "id": "edf010a6-f153-42ec-beab-c79e52a1ea57",
   "metadata": {},
   "source": [
    "### Zero Columns?\n",
    "\n",
    "The last five columns in the dataset seem to have all their values set to zero at a glance. If so, they may add no value to our model and we may skip them. Let's investigate further."
   ]
  },
  {
   "cell_type": "code",
   "execution_count": 131,
   "id": "30ec0abf-0bb6-4cef-83f7-79dd77b26a3c",
   "metadata": {},
   "outputs": [
    {
     "name": "stdout",
     "output_type": "stream",
     "text": [
      "[0 1]\n",
      "[0 1]\n",
      "[0 1]\n",
      "[0 1]\n",
      "[0 1]\n"
     ]
    }
   ],
   "source": [
    "for column in range(1,6):\n",
    "    print(train.iloc[:,-column].unique())"
   ]
  },
  {
   "cell_type": "markdown",
   "id": "2a199ee6-c027-4cfe-8e2c-cbf7ed6e9a4e",
   "metadata": {},
   "source": [
    "Turn out `HDF, PWF, OSF, RNF, TWF` are binary variables."
   ]
  },
  {
   "cell_type": "markdown",
   "id": "f7c023bd-3902-4a8c-9867-1b4dab45e664",
   "metadata": {},
   "source": [
    "### Normalization"
   ]
  },
  {
   "cell_type": "code",
   "execution_count": 132,
   "id": "e818b239-78ff-4c36-bbaa-702e67a795ba",
   "metadata": {
    "tags": []
   },
   "outputs": [],
   "source": [
    "from sklearn.preprocessing import StandardScaler"
   ]
  },
  {
   "cell_type": "code",
   "execution_count": 133,
   "id": "cb3fe24d-f8ae-495e-b6b2-5304a26bbc67",
   "metadata": {
    "tags": []
   },
   "outputs": [],
   "source": [
    "SCALE = StandardScaler()"
   ]
  },
  {
   "cell_type": "code",
   "execution_count": 152,
   "id": "c138f129-4836-46e9-9ea0-37865f3c7381",
   "metadata": {
    "tags": []
   },
   "outputs": [],
   "source": [
    "X = SCALE.fit_transform(train)\n",
    "test = SCALE.fit_transform(test)"
   ]
  },
  {
   "cell_type": "markdown",
   "id": "9108bb71-a2e5-4cd5-a341-9ebf313bd8c8",
   "metadata": {},
   "source": [
    "### Plots"
   ]
  },
  {
   "cell_type": "code",
   "execution_count": 153,
   "id": "f0ff9bbb-a731-42aa-a699-05873086c4d6",
   "metadata": {
    "tags": []
   },
   "outputs": [
    {
     "data": {
      "image/png": "[encoded data removed]",
      "text/plain": [
       "<Figure size 1152x720 with 12 Axes>"
      ]
     },
     "metadata": {
      "needs_background": "light"
     },
     "output_type": "display_data"
    }
   ],
   "source": [
    "fig = train.hist(figsize=(16,10))"
   ]
  },
  {
   "cell_type": "markdown",
   "id": "3bae5b8e-a269-4fc8-ada9-5449ece8dc41",
   "metadata": {},
   "source": [
    "## Imbalanced Variables"
   ]
  },
  {
   "cell_type": "markdown",
   "id": "848dcd5f-225d-49fd-ab46-4a26d2eea90c",
   "metadata": {},
   "source": [
    "The target variable and the variables `HDF, PWF, OSF, RNF, TWF` are inbalanced. They have way more cases in one class than the other. We best be mindful of that as that is likely to affect our learning techniques. Possible effects include:\n",
    "1. **Bias**. If the target variable is imbalanced the classifiers bias towards the majority class. This can result in `low recall` or `low sensitivity` for the positive class.\n",
    "2. **Deceptive accuracy**. May be highly accurate on the majority class only. Alternative evaluation metrics such as precision, recall, `F1 score`, or area under the Receiver Operating Characteristic (`ROC`) curve should be used"
   ]
  },
  {
   "cell_type": "markdown",
   "id": "4166793b-04ae-41a5-9ecc-38d0357a771d",
   "metadata": {},
   "source": [
    "### Solutions\n",
    "\n",
    "We are going to attempt to solve this issue by:\n",
    "- Cross Validation\n",
    "- Proper weighting of the classes"
   ]
  },
  {
   "cell_type": "markdown",
   "id": "3acf1269-5729-4e09-a9da-19796d35a725",
   "metadata": {},
   "source": [
    "## Model Training"
   ]
  },
  {
   "cell_type": "markdown",
   "id": "6d6c4748-4ac0-4913-9f64-99ca092409c7",
   "metadata": {},
   "source": [
    "### Train Test Split\n",
    "We are going to use the training set for both training and testing."
   ]
  },
  {
   "cell_type": "code",
   "execution_count": null,
   "id": "ee237a53-e3cf-4fb9-92ae-83268f27b8d7",
   "metadata": {},
   "outputs": [],
   "source": []
  },
  {
   "cell_type": "code",
   "execution_count": 154,
   "id": "6c0efb7e-17c7-48d8-b450-f473ecd2e9fd",
   "metadata": {
    "tags": []
   },
   "outputs": [],
   "source": [
    "from sklearn.model_selection import train_test_split"
   ]
  },
  {
   "cell_type": "code",
   "execution_count": 155,
   "id": "967a84ac-6388-497f-97d3-adc35e077872",
   "metadata": {
    "tags": []
   },
   "outputs": [],
   "source": [
    "X_train, X_test, y_train, y_test = train_test_split(X, y, test_size=0.2, random_state=1)"
   ]
  },
  {
   "cell_type": "code",
   "execution_count": 156,
   "id": "77a2e86a-9d6c-4887-a154-79445950951f",
   "metadata": {},
   "outputs": [],
   "source": [
    "from sklearn.model_selection import GridSearchCV, StratifiedKFold\n",
    "from sklearn.linear_model import LogisticRegression\n",
    "from sklearn.datasets import make_classification\n",
    "from sklearn.metrics import make_scorer, f1_score"
   ]
  },
  {
   "cell_type": "markdown",
   "id": "66fc39dd-78ec-40c8-b602-543b2d7e989f",
   "metadata": {},
   "source": [
    "### Hyperparameter tuning"
   ]
  },
  {
   "cell_type": "code",
   "execution_count": 157,
   "id": "5b336d9c-14c6-4f2a-8f35-a3c27ffe019f",
   "metadata": {},
   "outputs": [
    {
     "name": "stdout",
     "output_type": "stream",
     "text": [
      "Best Parameters:  {'class_weight': None}\n",
      "Best F1 Score:  0.8649575409352774\n"
     ]
    }
   ],
   "source": [
    "# Define the model\n",
    "model = LogisticRegression()\n",
    "\n",
    "# Define the parameter grid\n",
    "param_grid = {'class_weight': [None, 'balanced', {0: 1, 1: 5}, {0: 1, 1: 10}]}\n",
    "\n",
    "# Define the scoring metric\n",
    "scorer = make_scorer(f1_score)\n",
    "\n",
    "# Define the cross-validation strategy\n",
    "cv = StratifiedKFold(n_splits=5, shuffle=True, random_state=42)\n",
    "\n",
    "# Perform grid search with cross-validation\n",
    "grid_search = GridSearchCV(estimator=model, param_grid=param_grid, scoring=scorer, cv=cv)\n",
    "grid_search.fit(X_train, y_train)\n",
    "\n",
    "# Print the best parameters and score\n",
    "print(\"Best Parameters: \", grid_search.best_params_)\n",
    "print(\"Best F1 Score: \", grid_search.best_score_)"
   ]
  },
  {
   "cell_type": "markdown",
   "id": "9e18e1db-a242-4e86-8b48-7ccba88b0c48",
   "metadata": {},
   "source": [
    "### Fitting"
   ]
  },
  {
   "cell_type": "code",
   "execution_count": 158,
   "id": "a175671b-30d5-47b1-8c92-6eb5dd42a02f",
   "metadata": {
    "tags": []
   },
   "outputs": [
    {
     "data": {
      "text/html": [
       "<style>#sk-container-id-4 {color: black;background-color: white;}#sk-container-id-4 pre{padding: 0;}#sk-container-id-4 div.sk-toggleable {background-color: white;}#sk-container-id-4 label.sk-toggleable__label {cursor: pointer;display: block;width: 100%;margin-bottom: 0;padding: 0.3em;box-sizing: border-box;text-align: center;}#sk-container-id-4 label.sk-toggleable__label-arrow:before {content: \"▸\";float: left;margin-right: 0.25em;color: #696969;}#sk-container-id-4 label.sk-toggleable__label-arrow:hover:before {color: black;}#sk-container-id-4 div.sk-estimator:hover label.sk-toggleable__label-arrow:before {color: black;}#sk-container-id-4 div.sk-toggleable__content {max-height: 0;max-width: 0;overflow: hidden;text-align: left;background-color: #f0f8ff;}#sk-container-id-4 div.sk-toggleable__content pre {margin: 0.2em;color: black;border-radius: 0.25em;background-color: #f0f8ff;}#sk-container-id-4 input.sk-toggleable__control:checked~div.sk-toggleable__content {max-height: 200px;max-width: 100%;overflow: auto;}#sk-container-id-4 input.sk-toggleable__control:checked~label.sk-toggleable__label-arrow:before {content: \"▾\";}#sk-container-id-4 div.sk-estimator input.sk-toggleable__control:checked~label.sk-toggleable__label {background-color: #d4ebff;}#sk-container-id-4 div.sk-label input.sk-toggleable__control:checked~label.sk-toggleable__label {background-color: #d4ebff;}#sk-container-id-4 input.sk-hidden--visually {border: 0;clip: rect(1px 1px 1px 1px);clip: rect(1px, 1px, 1px, 1px);height: 1px;margin: -1px;overflow: hidden;padding: 0;position: absolute;width: 1px;}#sk-container-id-4 div.sk-estimator {font-family: monospace;background-color: #f0f8ff;border: 1px dotted black;border-radius: 0.25em;box-sizing: border-box;margin-bottom: 0.5em;}#sk-container-id-4 div.sk-estimator:hover {background-color: #d4ebff;}#sk-container-id-4 div.sk-parallel-item::after {content: \"\";width: 100%;border-bottom: 1px solid gray;flex-grow: 1;}#sk-container-id-4 div.sk-label:hover label.sk-toggleable__label {background-color: #d4ebff;}#sk-container-id-4 div.sk-serial::before {content: \"\";position: absolute;border-left: 1px solid gray;box-sizing: border-box;top: 0;bottom: 0;left: 50%;z-index: 0;}#sk-container-id-4 div.sk-serial {display: flex;flex-direction: column;align-items: center;background-color: white;padding-right: 0.2em;padding-left: 0.2em;position: relative;}#sk-container-id-4 div.sk-item {position: relative;z-index: 1;}#sk-container-id-4 div.sk-parallel {display: flex;align-items: stretch;justify-content: center;background-color: white;position: relative;}#sk-container-id-4 div.sk-item::before, #sk-container-id-4 div.sk-parallel-item::before {content: \"\";position: absolute;border-left: 1px solid gray;box-sizing: border-box;top: 0;bottom: 0;left: 50%;z-index: -1;}#sk-container-id-4 div.sk-parallel-item {display: flex;flex-direction: column;z-index: 1;position: relative;background-color: white;}#sk-container-id-4 div.sk-parallel-item:first-child::after {align-self: flex-end;width: 50%;}#sk-container-id-4 div.sk-parallel-item:last-child::after {align-self: flex-start;width: 50%;}#sk-container-id-4 div.sk-parallel-item:only-child::after {width: 0;}#sk-container-id-4 div.sk-dashed-wrapped {border: 1px dashed gray;margin: 0 0.4em 0.5em 0.4em;box-sizing: border-box;padding-bottom: 0.4em;background-color: white;}#sk-container-id-4 div.sk-label label {font-family: monospace;font-weight: bold;display: inline-block;line-height: 1.2em;}#sk-container-id-4 div.sk-label-container {text-align: center;}#sk-container-id-4 div.sk-container {/* jupyter's `normalize.less` sets `[hidden] { display: none; }` but bootstrap.min.css set `[hidden] { display: none !important; }` so we also need the `!important` here to be able to override the default hidden behavior on the sphinx rendered scikit-learn.org. See: https://github.com/scikit-learn/scikit-learn/issues/21755 */display: inline-block !important;position: relative;}#sk-container-id-4 div.sk-text-repr-fallback {display: none;}</style><div id=\"sk-container-id-4\" class=\"sk-top-container\"><div class=\"sk-text-repr-fallback\"><pre>LogisticRegression()</pre><b>In a Jupyter environment, please rerun this cell to show the HTML representation or trust the notebook. <br />On GitHub, the HTML representation is unable to render, please try loading this page with nbviewer.org.</b></div><div class=\"sk-container\" hidden><div class=\"sk-item\"><div class=\"sk-estimator sk-toggleable\"><input class=\"sk-toggleable__control sk-hidden--visually\" id=\"sk-estimator-id-4\" type=\"checkbox\" checked><label for=\"sk-estimator-id-4\" class=\"sk-toggleable__label sk-toggleable__label-arrow\">LogisticRegression</label><div class=\"sk-toggleable__content\"><pre>LogisticRegression()</pre></div></div></div></div></div>"
      ],
      "text/plain": [
       "LogisticRegression()"
      ]
     },
     "execution_count": 158,
     "metadata": {},
     "output_type": "execute_result"
    }
   ],
   "source": [
    "model.fit(X_train, y_train)"
   ]
  },
  {
   "cell_type": "markdown",
   "id": "75f68a46-0a37-40d6-b0b1-5661cff4b9f7",
   "metadata": {},
   "source": [
    "## Evaluation\n"
   ]
  },
  {
   "cell_type": "code",
   "execution_count": 159,
   "id": "14a0fb19-f7e0-414d-9d59-248e95988672",
   "metadata": {},
   "outputs": [],
   "source": [
    "from sklearn.metrics import jaccard_score, accuracy_score, log_loss, classification_report"
   ]
  },
  {
   "cell_type": "code",
   "execution_count": 160,
   "id": "e9d887a9-71d4-4e66-a728-df668bb954f7",
   "metadata": {},
   "outputs": [],
   "source": [
    "y_pred = model.predict(X_test)\n",
    "y_pred_logs = model.predict_log_proba(X_test)"
   ]
  },
  {
   "cell_type": "code",
   "execution_count": 161,
   "id": "5bdbf32b-3c4b-4253-a56e-77726765e7c4",
   "metadata": {
    "tags": []
   },
   "outputs": [
    {
     "data": {
      "text/plain": [
       "0.995895330938943"
      ]
     },
     "execution_count": 161,
     "metadata": {},
     "output_type": "execute_result"
    }
   ],
   "source": [
    "accuracy_score(y_test, y_pred=y_pred)"
   ]
  },
  {
   "cell_type": "code",
   "execution_count": 162,
   "id": "cfff0124-8468-47bb-aa27-dc6999af4fcd",
   "metadata": {
    "tags": []
   },
   "outputs": [
    {
     "data": {
      "text/plain": [
       "0.7454545454545455"
      ]
     },
     "execution_count": 162,
     "metadata": {},
     "output_type": "execute_result"
    }
   ],
   "source": [
    "jaccard_score(y_test, y_pred=y_pred)"
   ]
  },
  {
   "cell_type": "code",
   "execution_count": 163,
   "id": "aa730a22-ebed-43a1-b6d8-8dee0a0f9c46",
   "metadata": {
    "tags": []
   },
   "outputs": [
    {
     "data": {
      "text/plain": [
       "0.6931471805599453"
      ]
     },
     "execution_count": 163,
     "metadata": {},
     "output_type": "execute_result"
    }
   ],
   "source": [
    "log_loss(y_test, y_pred_logs)"
   ]
  },
  {
   "cell_type": "code",
   "execution_count": 164,
   "id": "1de92b7b-a67b-458a-b4cc-1b65d9a3f1c2",
   "metadata": {
    "tags": []
   },
   "outputs": [
    {
     "name": "stdout",
     "output_type": "stream",
     "text": [
      "              precision    recall  f1-score   support\n",
      "\n",
      "           0       1.00      1.00      1.00     26850\n",
      "           1       0.99      0.75      0.85       436\n",
      "\n",
      "    accuracy                           1.00     27286\n",
      "   macro avg       0.99      0.88      0.93     27286\n",
      "weighted avg       1.00      1.00      1.00     27286\n",
      "\n"
     ]
    }
   ],
   "source": [
    "print(classification_report(y_test, y_pred=y_pred))"
   ]
  },
  {
   "cell_type": "markdown",
   "id": "6b67810c-f006-4064-9e79-c44b6afa05b3",
   "metadata": {},
   "source": [
    "The model has poor recall on class 1, which has disproportionately fewer samples. This happens at the same time the model has record accuracy. We will have to adjust hyperparameters to raise `recall` for that class."
   ]
  },
  {
   "cell_type": "markdown",
   "id": "f0b06dbb-6191-4c3f-834b-dc062616ed44",
   "metadata": {},
   "source": [
    "## Kaggle Predictions\n",
    "\n",
    "Now we predict on the test set provided by kaggle in order to submit for grading."
   ]
  },
  {
   "cell_type": "code",
   "execution_count": 165,
   "id": "f7a08907-38dd-4620-a956-d7b90d96d5b7",
   "metadata": {
    "tags": []
   },
   "outputs": [],
   "source": [
    "test_kaggle = pd.read_csv('./test.csv')\n",
    "\n",
    "kaggle_preds = model.predict(test)\n",
    "\n",
    "df = pd.DataFrame({'id' : test_kaggle.id, 'Machine failure' : kaggle_preds})\n",
    "df.to_csv('./sample_submission.csv', index=False)"
   ]
  },
  {
   "cell_type": "code",
   "execution_count": null,
   "id": "f9ed049f-3341-40cc-a562-a517bafe1022",
   "metadata": {},
   "outputs": [],
   "source": []
  }
 ],
 "metadata": {
  "kernelspec": {
   "display_name": "Python 3 (ipykernel)",
   "language": "python",
   "name": "python3"
  },
  "language_info": {
   "codemirror_mode": {
    "name": "ipython",
    "version": 3
   },
   "file_extension": ".py",
   "mimetype": "text/x-python",
   "name": "python",
   "nbconvert_exporter": "python",
   "pygments_lexer": "ipython3",
   "version": "3.10.4"
  }
 },
 "nbformat": 4,
 "nbformat_minor": 5
}
